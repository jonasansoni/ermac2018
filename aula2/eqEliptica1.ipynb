{
 "cells": [
  {
   "cell_type": "markdown",
   "metadata": {},
   "source": [
    "###### Material desenvolvido para o minicurso: Introdução à solução numérica de EDP's, ministrado no ERMAC/2018 de 5 a 6 de abril de 2018 na Universidade Federal de Lavras, Lavras/MG, Brasil. Autor: [Jonas Laerte Ansoni](http://jonasansoni.blogspot.com.br/)."
   ]
  },
  {
   "cell_type": "markdown",
   "metadata": {},
   "source": [
    "<img src=\"./figuras/logoemarc.png\" width=\"30%\">"
   ]
  },
  {
   "cell_type": "markdown",
   "metadata": {},
   "source": [
    "# <center> Minicurso:<font color='blue'> Introdução à solução numérica de EDP's"
   ]
  },
  {
   "cell_type": "markdown",
   "metadata": {},
   "source": [
    "## 4. Equações elípticas"
   ]
  },
  {
   "cell_type": "markdown",
   "metadata": {},
   "source": [
    "Já vimos em aulas passadas o método de diferenças finitas para equações diferenciais parciais (EDP's) e o caso envolvendo o problema de convecção e difusão, onde em ambos os casos envolvem a variação temporal das grandezas físicas de interesse. Mas e os casos relacionados com problemas de equílibrio?\n",
    "\n",
    "### 4.1. Equação de Poisson\n",
    "\n",
    "Muito problemas na física não tem dependencia do tempo. Matematicamente, esses problemas são representados por equações diferenciais parciais elípticas. Dentre os fenômenos modelados por equações elípticas, podemos citar a distribuição de pressão dentro de um escoamento incompressível, percolação de água sob uma represa e o campo elétrico perto da extremidade de um material condutor. Todos esses casos podem ser modelados pela a __Equação de Poisson__:\n",
    "\n",
    "\\begin{equation}\n",
    "\\label{poisson}\n",
    "\\nabla^2 \\phi = f\n",
    "\\tag{1}\n",
    "\\end{equation}\n",
    "\n",
    "onde $\\phi$ (desconhecida) e $f$ (conhecida) são funções do espaço, em um domínio $\\Omega$. Para encontrar a solução, exigimos condições de contorno. Estas poderiam ser as condições de contorno de Dirichlet, especificando o valor da solução na fronteira,\n",
    "\n",
    "\\begin{equation}\n",
    "\\phi = b_1 \\text{ no } \\partial\\Omega,\n",
    "\\end{equation}\n",
    "\n",
    "ou condições de fronteira do tipo de Neumann, especificando a derivada normal da solução na fronteira, \n",
    "\n",
    "\\begin{equation}\n",
    "\\frac{\\partial \\phi}{\\partial n} = b_2 \\text{ no } \\partial\\Omega.\n",
    "\\end{equation}\n",
    "\n",
    "Um problema de valor de contorno consiste em encontrar $u$, dadas as informações acima. Numericamente, podemos fazer isso usando *métodos de relaxamento* (método de Jacobi, Gauss-Seidel, SOR), que começam com um palpite inicial de $\\phi$ e depois iteram para a solução. Vamos descobrir como!\n"
   ]
  },
  {
   "cell_type": "markdown",
   "metadata": {},
   "source": [
    "### 4.2. Equação de Laplce\n",
    "\n",
    "O caso particular em que $f=0$ (homogênio) resulta na equação de Laplace (em coordenadas cartesianas bidimensionais):\n",
    "\n",
    "\\begin{equation}\n",
    "\\label{laplace}\n",
    "\\nabla^2 \\phi = \\frac{\\partial^2 \\phi}{\\partial x^2}+\\frac{\\partial^2 \\phi}{\\partial y^2}= 0,\n",
    "\\tag{2}\n",
    "\\end{equation}\n",
    "em que $\\phi$ é a variável dependente e $\\nabla^2$ é o operador laplaciano, em que coordenadas cartesianas bidimencionais, é dado por \n",
    "\n",
    "\\begin{equation}\n",
    "\\nabla^2=\\frac{\\partial^2}{\\partial x^2}+\\frac{\\partial^2}{\\partial y^2}.\n",
    "\\end{equation}\n",
    "\n",
    "A solução única para esse tipo de problemas é obtida especificando-se condições sobre a variável dependente na fronteira $\\partial\\Omega$ da região $\\Omega$, em que se quer resolver o problema. Problemas que exigem condições ao longo da fronteira (contorno) $\\partial\\Omega$ de _toda_ a região são denominadas de __problemas de valor de contorno__ (PVC)."
   ]
  },
  {
   "cell_type": "markdown",
   "metadata": {},
   "source": [
    "#### 4.2.1 Equação de calor em estado estacionário\n",
    "\n",
    "<img src=\"./figuras/fig1.png\" align=\"center\" alt=\"Drawing\" style=\"width: 350px;\" label=placa>\n",
    "\n",
    "#### <center> Figure 1. Chapa plana cujas bordas são mantidas a diferentes temperaturas .\n",
    "\n",
    "Como exemplo considere a chapa plana de metal mostrada na Figura \\ref{placa}. Ela está termicamente isolada nas faces, possui espessura desprezível e só pode trocar calor pelas bordas laterais, que são mantidas às temperaturas constantes.\n",
    "\n",
    "Quando a placa está em equílio térmico, a temperatura $T$ em cada ponto *interno* (isto é, que não esteja na borda) satisfaz a equação \\ref{laplace} com $\\phi=T$, ou seja:\n",
    "\n",
    "\\begin{equation}\n",
    "\\nabla^2 T = \\frac{\\partial^2 T}{\\partial x^2}+\\frac{\\partial^2 T}{\\partial y^2}=0,\n",
    "\\tag{3}\n",
    "\\end{equation}\n",
    "\n",
    "onde $x$ e $y$ são funções da pocisão em coordenadas cartesianas.\n",
    "\n",
    "Aqui precisamos resolver a form 2D da equação de Laplace, satisfazendo as condições de contono representadas na figura \\ref{placa}."
   ]
  },
  {
   "cell_type": "markdown",
   "metadata": {},
   "source": [
    "O que faremos é encontrar a temperatura no estado estacionário dentro da placa 2D (o que também significa a solução da equação de Laplace), com as condições de contorno indicadas (temperatura da borda da placa). Em seguida, vamos discretizar a região do placa em uma malha computacional, e então discretizamos a equação de Laplace acima com método de diferenças finitas. Esta é a região discretizada da placa.\n",
    "\n",
    "<img src=\"./figuras/fig2.png\" align=\"center\" alt=\"Drawing\" style=\"width: 480px;\">\n",
    "#### <center> Figure 2. Malha computacional do problema."
   ]
  },
  {
   "cell_type": "markdown",
   "metadata": {},
   "source": [
    "#### Discretização em diferenças finitas\n",
    "\n",
    "Como realizado para a equação da difusão previamente discutida, vamos discretizar os termos derivativos de segunda ordem por meio de diferenças centrais de segunda ordem. Em uma malha cartesiana bidimensional, temos:\n",
    "\n",
    "\\begin{equation}\n",
    "\\frac{T_{i+1, j} - 2T_{i,j} + T_{i-1,j} }{\\Delta x^2} + \\frac{T_{i,j+1} - 2T_{i,j} + T_{i, j-1} }{\\Delta y^2} = 0.\n",
    "\\tag{4}\n",
    "\\end{equation}\n",
    "\n",
    "A equação anterior pode ser escrita como:\n",
    "\n",
    "\\begin{equation}\n",
    "T_{i+1,j} - 2T_{i,j} + T_{i-1,j} + \\beta^2 (p_{i,j+1} - 2 p_{i,j} + p_{i, j-1} = 0\n",
    "\\tag{5}\n",
    "\\end{equation}\n",
    "\n",
    "onde $\\beta = \\frac{\\Delta x}{\\Delta y}$.\n",
    "\n",
    "Quando definimos $\\Delta x = \\Delta y$, obtemos a seguinte equação:\n",
    "\n",
    "\\begin{equation}\n",
    "T_{i+1, j} + T_{i-1,j} + T_{i,j+1}  + T_{i, j-1}- 4 T_{i,j} = 0\n",
    "\\tag{6}\n",
    "\\label{edf}\n",
    "\\end{equation}\n",
    "\n",
    "Isso nos diz que o operador diferencial Laplaciano no ponto de grade $(i,j)$ pode ser avaliado discretamente usando o valor de $T$ nesse ponto (com um fator $-4$) e os quatro pontos vizinhos à esquerda, direita, acima e abaixo do ponto da grade $(i, j)$."
   ]
  },
  {
   "cell_type": "markdown",
   "metadata": {},
   "source": [
    "### <span class=\"badge badge-pill badge-warning\">_Pergunta:_</span> <font color='Orange'> Como é o estêncil do método?</font>\n",
    "    \n",
    "### <span class=\"badge badge-pill badge-success\">Resposta: </span> \n",
    "O estêncil do operador Laplaciano discreto é mostrado na Figura 3. Normalmente é chamado de *estêncil de cinco pontos*, por razões óbvias.\n",
    "<img src=\"./figuras/laplace.svg\" align=\"center\">\n",
    "#### <center> Figure 3. Estêncil da equação de diferenças finitas \\ref{edf}."
   ]
  },
  {
   "cell_type": "markdown",
   "metadata": {},
   "source": [
    "A equação discreta acima (Eq. /ref{edf}) é válida para todos os pontos interiores do domínio. Se escrevermos as equações para *todos* pontos interiores, temos um sistema linear de equações algébricas. A solução deste sistema pode ser obtida por métodos diretos ou iterativos. \n",
    "\n",
    "Para resolver o problema, usamos um __\"chute inicial\"__ para os pontos interiores da malha (nós verdes Fig. 4). Inicialmente utilizamos $30^oC$ (ou podemos configurá-lo $35^oC$ ou outro valor), porque não conhecemos o valor dentro da malha (claro, esses são os valores que queremos saber). \n",
    "\n",
    "No processo iterativo, o valor da temperatura interior da malha irá se ajustando \"autocorrigindo\", então, quando mais próximo da solução real é o chute inicial, mais rápido obtemos uma solução.\n",
    "\n",
    "<img src=\"./figuras/fig4.png\" align=\"center\" alt=\"Drawing\" style=\"width: 400px;\">\n",
    "#### <center> Figure 4. Malha computacional com os valores iniciais."
   ]
  },
  {
   "cell_type": "markdown",
   "metadata": {},
   "source": [
    "##### Tarefa desafio\n",
    "\n",
    "Pegue um pedaço de papel e escreva a matriz do coeficiente para uma discretização com 7 pontos de grade na direção $x$ (5 pontos interiores) e 5 pontos na direção $y$ (3 interiores). O sistema deve ter 15 incógnitas e o coeficiente matriz três blocos diagonais. Assuma as condições de contorno prescritas de Dirichlet em todos os lados (não necessariamente zero)."
   ]
  },
  {
   "cell_type": "markdown",
   "metadata": {},
   "source": [
    "### Vamos ao código!!!\n",
    "\n",
    "A idéia deste código e de demonstrar de forma didática a implementação do método, você já deve ser capaz de implementar um código mais eficiente.\n",
    "\n",
    "Se você fez o exercício anterior, observou que a matriz de coeficiente de tal sistema linear tem principalmente zeros. Para uma grade espacial uniforme, a matriz é * diagonal de blocos*. Os métodos iterativos são particularmente adequados para um sistema com essa estrutura e nos poupam de armazenar todos esses zeros.\n",
    "\n",
    "Vamos começar com um chute inicial para a solução, $T_{i, j}^{0}$, e usar o Laplaciano discreto para obter uma atualização, $ T_{i, j}^{1}$, depois continuar computando $T_{i, j}^{k}$ até ficarmos felizes. Note que $k$ _não_ é um índice de tempo aqui, mas um índice correspondente ao número de iterações que realizamos no *esquema de relaxamento*.\n",
    "\n",
    "Em cada iteração, calculamos os valores atualizados $T_{i, j}^{k+1}$ de uma maneira (esperançosamente) inteligente para que eles convirjam para um conjunto de valores satisfazendo a equação de Laplace. O sistema atingirá o equilíbrio apenas quando o número de iterações tende a $\\infty$, mas podemos aproximar o estado de equilíbrio por iterar até que a mudança entre uma iteração e a próxima seja *muito* pequena."
   ]
  },
  {
   "cell_type": "markdown",
   "metadata": {},
   "source": [
    "O método mais intuitivo de solução iterativa é conhecido como o [**método Jacobi**](https://en.wikipedia.org/wiki/Jacobi_method), no qual os valores nos pontos da grade são substituídos pelas médias ponderadas correspondentes:\n",
    "\n",
    "\n",
    "\\begin{equation}\n",
    "T^{k+1}_{i,j} = \\frac{1}{4} \\left(T^{k}_{i,j-1} + T^k_{i,j+1} + T^{k}_{i-1,j} + T^k_{i+1,j} \\right)\n",
    "\\end{equation}\n",
    "\n",
    "Lembrando que é para malhas igualmente espaçadas!!!"
   ]
  },
  {
   "cell_type": "code",
   "execution_count": 1,
   "metadata": {},
   "outputs": [],
   "source": [
    "# Simple Numerical Laplace Equation Solution using Finite Difference Method\n",
    "\n",
    "import numpy as np\n",
    "#import matplotlib.pyplot as plt\n",
    "import matplotlib.pyplot as plt\n",
    "%matplotlib inline\n",
    "from matplotlib import rcParams\n",
    "rcParams['font.family'] = 'serif'\n",
    "rcParams['font.size'] = 16"
   ]
  },
  {
   "cell_type": "code",
   "execution_count": 2,
   "metadata": {},
   "outputs": [],
   "source": [
    "#Parameters\n",
    "nx = 41\n",
    "ny = 41\n",
    "l2_target = 1e-3\n",
    "maxIter=1000\n",
    "\n",
    "L = 10\n",
    "H = 10\n",
    "\n",
    "# Boundary condition\n",
    "Ttop = 100\n",
    "Tbottom = 0\n",
    "Tleft = 0\n",
    "Tright = 0\n",
    "\n",
    "# Initial guess of interior grid\n",
    "Tguess = 30\n",
    "\n",
    "# Set colour interpolation and colour map\n",
    "colorinterpolation = 50\n",
    "colourMap = plt.cm.jet #you can try: colourMap = plt.cm.coolwarm"
   ]
  },
  {
   "cell_type": "markdown",
   "metadata": {},
   "source": [
    "O `np.meshgrid()` cria a grade de malha para nós (usamos isso para plotar a solução), o primeiro parâmetro é para a dimensão x, e o segundo parâmetro é para a dimensão y. Usamos np.arange () para arange array 1-D com o valor do elemento começa de algum valor para algum valor, no nosso caso é de `0` para `lenX` e de `0` para `lenY`. Em seguida, definimos a região: definimos a matriz 2-D, definimos o tamanho e preenchemos a matriz com valor de palpite, depois definimos a condição de contorno, observamos a sintaxe de preenchimento do elemento da matriz para a condição de limite acima aqui."
   ]
  },
  {
   "cell_type": "markdown",
   "metadata": {},
   "source": [
    "##### Linhas, colunas e ordem do índice\n",
    "\n",
    "Lembre-se que na aula ?? armazenamos dados com o $y$ coordenadas correspondentes às linhas da matriz e coordenadas $x$ nas colunas (isso é apenas uma decisão de design de código!). Fizemos isso para que uma plotagem dos valores da matriz 2D tivesse a ordenação natural, correspondente ao domínio físico (coordenada $y$ na vertical).\n",
    "\n",
    "Nós seguiremos a mesma convenção aqui (mesmo que consigamos plotar em 3D, então não há razão real), apenas para ser consistente. Assim, $T_{i, j}$ será armazenado em formato de array como `T [j, i]`. Não fique confuso com isso."
   ]
  },
  {
   "cell_type": "code",
   "execution_count": 3,
   "metadata": {},
   "outputs": [],
   "source": [
    "dx = L/(nx-1)\n",
    "dy = H/(ny-1)\n",
    "\n",
    "# Mesh\n",
    "x  = np.linspace(0,L,nx)\n",
    "y  = np.linspace(0,H,ny)\n",
    "X,Y = np.meshgrid(x,y)\n",
    "\n",
    "# Set array size and set the interior value with Tguess\n",
    "T = np.empty((nx, ny))\n",
    "T.fill(Tguess)"
   ]
  },
  {
   "cell_type": "markdown",
   "metadata": {},
   "source": [
    "Definindo as condições de contorno do tipo Dirichlet."
   ]
  },
  {
   "cell_type": "code",
   "execution_count": 4,
   "metadata": {},
   "outputs": [],
   "source": [
    "# Set Boundary condition\n",
    "T[(ny-1):, :] = Ttop\n",
    "T[:1, :] = Tbottom\n",
    "T[:, (nx-1):] = Tright\n",
    "T[:, :1] = Tleft\n",
    "\n",
    "l2norm = 1\n",
    "iterations = 0\n",
    "Tn = np.ones((nx,ny))\n",
    "l2_conv = []"
   ]
  },
  {
   "cell_type": "markdown",
   "metadata": {},
   "source": [
    "### Quanto tempo nós iteramos?\n",
    "\n",
    "Observamos acima que não há dependência de tempo na equação de Laplace. Portanto, não faz muito sentido usar um loop `for` com iterações` nt`, como fizemos anteriormente.\n",
    "\n",
    "Em vez disso, podemos usar um loop `while` que continua a aplicar iterativamente o esquema de relaxação até que a diferença entre duas iterações sucessivas seja pequena o suficiente.\n",
    "\n",
    "Mas quão pequeno é pequeno o suficiente? Esta é uma boa pergunta. Vamos tentar resolver isso enquanto avançamos.\n",
    "\n",
    "Para comparar dois campos sucessivos de temperatura, podemos usar por exemplo a [norma L2][1] da diferença. É definido como\n",
    "\n",
    "\\begin{equation}\n",
    "|\\textbf{x}| = \\sqrt{\\sum_{i=0, j=0}^k \\left|T^{k+1}_{i,j} - T^k_{i,j}\\right|^2}\n",
    "\\end{equation}\n",
    "\n",
    "Mas há uma falha com esta fórmula. Estamos somando a diferença entre iterações sucessivas em cada ponto da grade. Então, o que acontece quando a grade cresce? (Por exemplo, se estivermos refinando a grade, por qualquer motivo.) Haverá mais pontos de grade para comparar e mais contribuições para a soma. A norma será um número maior só por causa do tamanho da grade!\n",
    "\n",
    "Isso não parece certo. Vamos corrigi-lo normalizando a norma, dividindo a fórmula acima pela norma do campo potencial na iteração $k$.\n",
    "\n",
    "Para duas iterações sucessivas, a norma L2 relativa é então calculada como\n",
    "\n",
    "\\begin{equation}\n",
    "|\\textbf{x}|_{L_2} = \\frac{\\sqrt{\\sum_{i=0, j=0}^k \\left|T^{k+1}_{i,j} - T^k_{i,j}\\right|^2}}{\\sqrt{\\sum_{i=0, j=0}^k \\left|T^k_{i,j}\\right|^2}}\n",
    "\\end{equation}\n",
    "\n",
    "Nosso código Python para este cálculo é uma função de uma linha:\n",
    "\n",
    "[1]:http://en.wikipedia.org/wiki/Norm_%28mathematics%29#Euclidean_norm"
   ]
  },
  {
   "cell_type": "code",
   "execution_count": 5,
   "metadata": {},
   "outputs": [],
   "source": [
    "def L2_error(T, Tn):\n",
    "    return np.sqrt(np.sum((T - Tn)**2)/np.sum(T**2))"
   ]
  },
  {
   "cell_type": "markdown",
   "metadata": {},
   "source": [
    "Norma $L_{\\infty}$\n",
    "\n",
    "\\begin{equation}\n",
    "|\\textbf{x}|_{L_{\\infty}} = \\frac{\\sum_{i=0, j=0}^k \\left|T^{k+1}_{i,j} - T^k_{i,j}\\right|}{\\sum_{i=0, j=0}^k \\left|T^{k+1}_{i,j}\\right|}\n",
    "\\end{equation}\n",
    "\n",
    "\n",
    "```python\n",
    "def norm_inf(T, Tn):\n",
    "    return np.sum((T - Tn)**2)/np.sum(T**2)\n",
    "```"
   ]
  },
  {
   "cell_type": "markdown",
   "metadata": {},
   "source": [
    "Agora, vamos definir uma função que irá aplicar o método de Jacobi para a equação de Laplace."
   ]
  },
  {
   "cell_type": "code",
   "execution_count": 6,
   "metadata": {},
   "outputs": [
    {
     "name": "stdout",
     "output_type": "stream",
     "text": [
      "Please wait for a moment\n",
      "Iteration finished\n",
      "Jacobi method took 496 iterations at tolerance 9.962291088843993e-05\n"
     ]
    },
    {
     "data": {
      "image/png": "[encoded data removed]",
      "text/plain": [
       "<matplotlib.figure.Figure at 0x7ffba4479a58>"
      ]
     },
     "metadata": {},
     "output_type": "display_data"
    },
    {
     "name": "stdout",
     "output_type": "stream",
     "text": [
      "\n"
     ]
    }
   ],
   "source": [
    "# Iteration\n",
    "print(\"Please wait for a moment\")\n",
    "\n",
    "while (l2norm>1e-4):\n",
    "    Tn=T.copy()\n",
    "    #T[1:-1,1:-1] = .25 * (Tn[1:-1,2:] + Tn[1:-1,:-2] + Tn[2:,1:-1] + Tn[:-2,1:-1]) #substituir pelos for's de i,j\n",
    "\n",
    "    for i in range(1,nx-1):\n",
    "        for j in range(1,ny-1):\n",
    "            T[i, j] = 0.25 * (Tn[i+1][j] + Tn[i-1][j] + Tn[i][j+1] + Tn[i][j-1])\n",
    "    \n",
    "    l2norm = L2_error(T, Tn)\n",
    "    #l2norm = np.sqrt(np.sum((Tn - T)**2)/np.sum(Tn**2))\n",
    "    iterations += 1\n",
    "    l2_conv.append(l2norm)\n",
    "    \n",
    "    #print(\"Iterations %d is %.8f  \" % (iterations, l2norm))\n",
    "    \n",
    "    if (iterations>=maxIter):\n",
    "        break\n",
    "\n",
    "print(\"Iteration finished\")\n",
    "print (\"Jacobi method took {} iterations at tolerance {}\".\\\n",
    "        format(iterations, l2norm))\n",
    "\n",
    "plt.figure(figsize=(8,5))\n",
    "# Configure the contour\n",
    "plt.title(\"Contour of Temperature\")\n",
    "plt.contourf(X, Y, T, colorinterpolation, cmap=colourMap)\n",
    "\n",
    "# Set Colorbar\n",
    "plt.colorbar()\n",
    "\n",
    "# Show the result in the plot window\n",
    "plt.show()\n",
    "\n",
    "print(\"\")"
   ]
  },
  {
   "cell_type": "markdown",
   "metadata": {},
   "source": [
    "### Convergência algébrica\n",
    "Lembre-se que salvamos a norma L2 da diferença entre duas iterações consecutivas. O objetivo disso foi observar como o esquema de relaxamento *converge*, no sentido algébrico: com soluções consecutivas aproximando-se cada vez mais umas das outras. Vamos usar um gráfico de linhas para isso."
   ]
  },
  {
   "cell_type": "code",
   "execution_count": 7,
   "metadata": {},
   "outputs": [
    {
     "data": {
      "image/png": "[encoded data removed]",
      "text/plain": [
       "<matplotlib.figure.Figure at 0x7ffba440d710>"
      ]
     },
     "metadata": {},
     "output_type": "display_data"
    }
   ],
   "source": [
    "plt.figure(figsize=(8,6))\n",
    "plt.grid(True)\n",
    "plt.xlabel(r'iterations', fontsize=18)\n",
    "plt.ylabel(r'$L_2$-norm', fontsize=18)\n",
    "plt.semilogy(np.arange(len(l2_conv)), l2_conv, lw=2, color='k');"
   ]
  },
  {
   "cell_type": "markdown",
   "metadata": {},
   "source": [
    "Parece que no início, as iterações começaram a convergir rapidamente, mas rapidamente adotaram uma taxa mais lenta. Como vimos antes, foram necessárias mais de ??? iterações para chegar à nossa meta de diferença entre duas soluções consecutivas (na norma L2). Isso é muita iterações, e nós realmente gostaríamos de relaxar mais rápido! Não se preocupe, vamos aprender a fazer isso no próximo notebook."
   ]
  },
  {
   "cell_type": "code",
   "execution_count": 8,
   "metadata": {},
   "outputs": [
    {
     "data": {
      "text/html": [
       "<style>\n",
       "@import url(http://fonts.googleapis.com/css?family=Lato|Source+Code+Pro|Montserrat:400,700);\n",
       "body {\n",
       "font-family: 'Lato', sans-serif !important;\n",
       "font-size: 1.25em !important;\n",
       "line-height: 30px !important;\n",
       "font-weight: 400 !important;\n",
       "color: #000000 !important;\n",
       "}\n",
       "#notebook-container {\n",
       "-webkit-box-shadow: none;\n",
       "box-shadow: none;\n",
       "}\n",
       ".rendered_html h1 { font-size: 4rem !important;  }\n",
       ".rendered_html h2 { font-size: 3rem !important; }\n",
       ".rendered_html h3 { font-size: 2.5rem !important; }\n",
       ".rendered_html h4 { font-size: 2rem !important; }\n",
       ".rendered_html h5 { font-size: 1.5rem !important; }\n",
       ".rendered_html h6 { font-size: 1.5rem !important; }\n",
       ".rendered_html h1, \n",
       ".rendered_html h2, \n",
       ".rendered_html h3, \n",
       ".rendered_html h4,\n",
       ".rendered_html h5, \n",
       ".rendered_html h6 {\n",
       "font-family: 'Montserrat', sans-serif !important;\n",
       "font-weight: 300 !important;\n",
       "line-height: 1.5em !important;\n",
       "color: rgb(0,51,102) !important;\n",
       "}\n",
       "h1 { font-size: 4.5rem !important; }\n",
       "h2 { font-size: 4rem !important; }\n",
       "h3 { font-size: 3.5rem !important; }\n",
       "h4 { font-size: 3rem !important; }\n",
       "h5 { font-size: 2.5rem !important; }\n",
       "h6 { font-size: 1.5rem !important; }\n",
       "h1, h2, h3, h4, h5, h6 {\n",
       "font-family: 'Montserrat', sans-serif !important;\n",
       "color: #e6ae48 !important;\n",
       "line-height: 150px !important;\n",
       "}\n",
       "p {\n",
       "font-family: 'Lato', sans-serif !important;\n",
       "font-size: 1.25em !important;\n",
       "line-height: 30px !important;\n",
       "font-weight: 400 !important;\n",
       "color: #000000 !important;\n",
       "}\n",
       "li {\n",
       "font-family: 'Lato', sans-serif !important;\n",
       "font-size: 1.25em !important;\n",
       "line-height: 30px !important;\n",
       "font-weight: 400 !important;\n",
       "color: #000000 !important;\n",
       "}\n",
       "code {\n",
       "font-family: 'Source Code Pro', sans-serif !important;\n",
       "font-size: 1em !important;\n",
       "}\n",
       "pre {\n",
       "font-family: 'Source Code Pro', sans-serif !important;\n",
       "font-size: 1em !important;\n",
       "}\n",
       "div.input_area {\n",
       "border: none !important;\n",
       "background: whitesmoke !important;\n",
       "}\n",
       ".alert-box {\n",
       "    padding:10px 10px 10px 36px;\n",
       "    margin:5px;\n",
       "}\n",
       "\n",
       "<style>\n",
       "<script>\n",
       "    MathJax.Hub.Config({\n",
       "                        TeX: {\n",
       "                           extensions: [\"AMSmath.js\"],\n",
       "                           equationNumbers: { autoNumber: \"AMS\", useLabelIds: true}\n",
       "                           },\n",
       "                tex2jax: {\n",
       "                    inlineMath: [ ['$','$'], [\"\\\\(\",\"\\\\)\"] ],\n",
       "                    displayMath: [ ['$$','$$'], [\"\\\\[\",\"\\\\]\"] ]\n",
       "                },\n",
       "                displayAlign: 'center', // Change this to 'center' to center equations.\n",
       "                \"HTML-CSS\": {\n",
       "                    styles: {'.MathJax_Display': {\"margin\": 4}}\n",
       "                }\n",
       "        });\n",
       "</script>\n",
       "\n",
       "\n"
      ],
      "text/plain": [
       "<IPython.core.display.HTML object>"
      ]
     },
     "execution_count": 8,
     "metadata": {},
     "output_type": "execute_result"
    }
   ],
   "source": [
    "from IPython.core.display import HTML\n",
    "css_file = '../styles/custom.css'\n",
    "HTML(open(css_file, \"r\").read())"
   ]
  }
 ],
 "metadata": {
  "kernelspec": {
   "display_name": "Python 3",
   "language": "python",
   "name": "python3"
  },
  "language_info": {
   "codemirror_mode": {
    "name": "ipython",
    "version": 3
   },
   "file_extension": ".py",
   "mimetype": "text/x-python",
   "name": "python",
   "nbconvert_exporter": "python",
   "pygments_lexer": "ipython3",
   "version": "3.6.4"
  }
 },
 "nbformat": 4,
 "nbformat_minor": 2
}
