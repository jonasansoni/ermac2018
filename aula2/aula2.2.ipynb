{
 "cells": [
  {
   "cell_type": "markdown",
   "metadata": {},
   "source": [
    "###### Material desenvolvido para o minicurso: Introdução à solução numérica de EDP's, ministrado no ERMAC/2018 de 5 a 6 de abril de 2018 na Universidade Federal de Lavras, Lavras/MG, Brasil. Autor: [Jonas Laerte Ansoni](http://jonasansoni.blogspot.com.br/)."
   ]
  },
  {
   "cell_type": "markdown",
   "metadata": {},
   "source": [
    "<img src=\"./figuras/logoemarc.png\" width=\"30%\">"
   ]
  },
  {
   "cell_type": "markdown",
   "metadata": {},
   "source": [
    "# <center> Minicurso:<font color='blue'> Introdução à solução numérica de EDP's"
   ]
  },
  {
   "cell_type": "markdown",
   "metadata": {},
   "source": [
    "## <center> Equação parabólica\n",
    "    \n",
    "### 3.2. Equação transiente de difusão de calor    \n",
    "######  Olhar Fortuna página 172"
   ]
  },
  {
   "cell_type": "markdown",
   "metadata": {},
   "source": [
    "A equação clássica para problemas parabólicos é a equação transiente de difusão de calor:\n",
    "\n",
    "\\begin{equation}\n",
    "\\frac{\\partial T}{\\partial t} = \\alpha \\frac{\\partial^2 T}{\\partial x^2}\n",
    "\\tag{1}\n",
    "\\end{equation}\n",
    "\n",
    "onde, $\\alpha$ é o ceficiente de difusividade térmica (propriedade do material), e $T$ é a temperatura.\n",
    "\n",
    "No _notebook_ anterior, nós discretizamos a equação de difusão com o esquema forward-time, centered-space, sujeita à seguinte restrição de estabilidade:\n",
    "\n",
    "\\begin{equation}\n",
    "\\alpha \\frac{\\Delta t}{(\\Delta x)^2} \\leq \\frac{1}{2}\n",
    "\\tag{2}\n",
    "\\end{equation}\n",
    "\n",
    "Vamos examiná-lo mais profundamente agora, usando um problema de evolução de temperatura 1D."
   ]
  },
  {
   "cell_type": "markdown",
   "metadata": {},
   "source": [
    "### Configuração do problema\n",
    "\n",
    "Digamos que temos uma vareta de grafite com [difusividade térmica](http://en.wikipedia.org/wiki/Thermal_diffusivity) de $\\alpha = 1,22 \\times10^{-3} {\\rm m}^2/{\\rm s}$, comprimento $L=1{\\rm m}$ e temperatura $T = 0{\\rm C}$ em todos os lugares. No momento $t = 0$, aumentamos a temperatura no lado esquerdo, $x = 0$, para $T = 100{\\rm C}$, e o mantemos constate. **Como a temperatura irá evoluir na haste?**"
   ]
  },
  {
   "cell_type": "markdown",
   "metadata": {},
   "source": [
    "![graphite-rod](./figuras/graphite-rod.png)\n",
    "#### <center> Figura 1.  Vareta de grafite, temperaturas fixas nas extremidades."
   ]
  },
  {
   "cell_type": "markdown",
   "metadata": {},
   "source": [
    "### Discretização\n",
    "\n",
    "Como discutido na aula anterior para este tipo de problema podemos aplicar o método de Euler explícito.\n",
    "\n",
    "\\begin{equation}\\frac{T_{i}^{n+1}-T_{i}^{n}}{\\Delta t}=\\alpha\\frac{T_{i+1}^{n}-2T_{i}^{n}+T_{i-1}^{n}}{\\Delta x^2}\\tag{3} \\label{eq3}\\end{equation}\n",
    "\n",
    "Para obter a temperatura no próximo passo de tempo, $T^{n+1}_i$, a partir das informações conhecidas no passo de tempo corrente, nós calculamos:\n",
    "\n",
    "\\begin{equation}T_{i}^{n+1}=T_{i}^{n}+\\frac{\\alpha\\Delta t}{\\Delta x^2}(T_{i+1}^{n}-2T_{i}^{n}+T_{i-1}^{n})\\tag{4}\\label{eq4}\\end{equation}\n",
    "\n",
    "As seguintes funções implementam o esquema numérico para resolver isto:"
   ]
  },
  {
   "cell_type": "code",
   "execution_count": 1,
   "metadata": {},
   "outputs": [],
   "source": [
    "import numpy\n",
    "from matplotlib import pyplot\n",
    "%matplotlib inline\n",
    "from matplotlib import rcParams\n",
    "rcParams['font.family'] = 'serif'\n",
    "rcParams['font.size'] = 16"
   ]
  },
  {
   "cell_type": "code",
   "execution_count": 2,
   "metadata": {},
   "outputs": [],
   "source": [
    "L = 1\n",
    "nt = 100\n",
    "nx = 51\n",
    "alpha = 1.22e-3\n",
    "\n",
    "dx = L/(nx-1)\n",
    "\n",
    "Ti = numpy.zeros(nx)\n",
    "Ti[0] = 100"
   ]
  },
  {
   "cell_type": "code",
   "execution_count": 3,
   "metadata": {},
   "outputs": [],
   "source": [
    "def ftcs(T, nt, dt, dx, alpha):\n",
    "    \"\"\"Solves the diffusion equation with forward-time, centered scheme\n",
    "    \n",
    "    Parameters:\n",
    "    ----------\n",
    "    T: array of float\n",
    "        Initial temperature profile\n",
    "    nt: int\n",
    "        Number of time steps\n",
    "    dt: float\n",
    "        Time step size\n",
    "    dx: float\n",
    "        Mesh size\n",
    "    alpha: float\n",
    "        Diffusion coefficient (thermal diffusivity)\n",
    "        \n",
    "    Returns:\n",
    "    -------\n",
    "    T: array of float\n",
    "        Temperature profile after nt time steps with forward in time scheme\n",
    "    \n",
    "    \"\"\"\n",
    "    \n",
    "    for n in range(nt):  \n",
    "        Tn = T.copy() \n",
    "        T[1:-1] = Tn[1:-1] + alpha*dt/dx**2*(Tn[2:] -2*Tn[1:-1] + Tn[0:-2])\n",
    "        \n",
    "        \n",
    "    return T"
   ]
  },
  {
   "cell_type": "markdown",
   "metadata": {},
   "source": [
    "Estamos todos prontos para executar! Primeiro, vamos usar um passo de tempo `dt` que satisfaz a restrição de estabilidade."
   ]
  },
  {
   "cell_type": "code",
   "execution_count": 4,
   "metadata": {},
   "outputs": [],
   "source": [
    "sigma = 1/2.0\n",
    "dt = sigma * dx*dx/alpha\n",
    "T = ftcs(Ti.copy(), nt, dt, dx, alpha)"
   ]
  },
  {
   "cell_type": "markdown",
   "metadata": {},
   "source": [
    "<div class=\"alert alert-warning\">\n",
    "<b>NOTA: </b> Estamos enviando uma *cópia* do `Ti` para a função `ftcs`. Enviar uma cópia garante que o valor de `Ti` permaneça inalterado para nós reutilizarmos.\n",
    "</div>"
   ]
  },
  {
   "cell_type": "code",
   "execution_count": 5,
   "metadata": {},
   "outputs": [
    {
     "data": {
      "image/png": "[encoded data removed]",
      "text/plain": [
       "<matplotlib.figure.Figure at 0x7f619f486048>"
      ]
     },
     "metadata": {},
     "output_type": "display_data"
    }
   ],
   "source": [
    "pyplot.plot(numpy.linspace(0,1,nx), T, color='#003366', ls='-', lw=3)\n",
    "pyplot.ylim(0,100)\n",
    "pyplot.xlabel('Length of Rod')\n",
    "pyplot.ylabel('Temperature');"
   ]
  },
  {
   "cell_type": "markdown",
   "metadata": {},
   "source": [
    "#### 3.2.1 Condições de contorno\n",
    "\n",
    "No problema da barra acima, afirmamos que o lado esquerdo da haste é mantido a uma temperatura de $T = 100{\\rm C}$. Este é um exemplo de uma *condição de contorno* (Boundary Condition - BC): uma regra que define como o problema interage com as bordas do domínio. Nesse caso, o domínio abrange o comprimento da haste, de $0 \\leq x \\leq 1$.\n",
    "\n",
    "Existem vários tipos de condições de contorno (Dirichlet, Neumann, Robin, periódica...), mas iremos abordar aqui duas das mais utilizadas."
   ]
  },
  {
   "cell_type": "markdown",
   "metadata": {},
   "source": [
    "##### Condição de contorno de Dirichlet\n",
    "\n",
    "* O valor de $\\phi$ é especificado na fronteira. \n",
    "\n",
    "O exemplo da haste acima usa um *Dirichlet* BC no lado esquerdo. Condição de contorno de Dirichlet é aquele em que a borda é mantida em um valor específico da variável de solução.\n",
    "\n",
    "E quanto à extremidade direita da haste $(x = 1)$? Na discretização que estabelecemos acima, o problema não evoluiu por tempo suficiente para o calor percorrer todo o comprimento da haste. Vamos aumentar o número de timesteps, `nt` e ver o que acontece."
   ]
  },
  {
   "cell_type": "code",
   "execution_count": 6,
   "metadata": {},
   "outputs": [],
   "source": [
    "nt = 1000\n",
    "T = ftcs(Ti.copy(), nt, dt, dx, alpha)"
   ]
  },
  {
   "cell_type": "code",
   "execution_count": 7,
   "metadata": {},
   "outputs": [
    {
     "data": {
      "image/png": "[encoded data removed]",
      "text/plain": [
       "<matplotlib.figure.Figure at 0x7f619f485da0>"
      ]
     },
     "metadata": {},
     "output_type": "display_data"
    }
   ],
   "source": [
    "pyplot.plot(numpy.linspace(0,1,nx), T, color='#003366', ls='-', lw=3)\n",
    "pyplot.ylim(0,100)\n",
    "pyplot.xlabel('Length of Rod')\n",
    "pyplot.ylabel('Temperature');"
   ]
  },
  {
   "cell_type": "markdown",
   "metadata": {},
   "source": [
    "Hmmm ... parece que estamos colocando o BC do lado direito o valor $T = 0{\\rm C}$, você concorda?\n",
    "Agora estude o código para a função `ftbs`, acima, e tente descobrir o que acontece no ponto mais à direita da grade espacial.\n",
    "\n",
    "Você descobriu?"
   ]
  },
  {
   "cell_type": "markdown",
   "metadata": {},
   "source": [
    "O valor em `T [-1]` nunca atualiza! \n",
    "Esse valor é definido como zero na condição inicial e permanece assim durante toda a simulação. Nós efetivamente temos condições de contorno do tipo Dirichlet em *ambas* extremidades. O lado esquerdo da haste é mantido a uma temperatura de $T = 100{\\rm C}$ e o lado direito é mantido em $T = 0{\\rm C}$. Ambas as temperaturas finais são \"fixas\" definindo valores, a distribuição de temperatura dentro da haste convergirá (após tempo suficiente) para um gradiente de temperatura linear em todo o comprimento da haste.\n",
    "\n",
    "![graphite-rod](./figuras/transmissao-calor-por-conducao.jpg)\n",
    "#### <center> Figura 2.  Condução de calor e uma haste com temperatura fixa nas extremidades.\n",
    "\n",
    "<div class=\"alert alert-info\" role=\"alert\">\n",
    " <p class=\"lead\"> Quando a solução estiver em equilíbrio, nenhum número de *timesteps* extras fará com que ela seja alterada. Este é um exemplo de uma <font color=`blue`>*solução de estado estacionário*.\n",
    "</div>\n",
    "\n",
    "As condições de contorno de Dirichlet aparecem em muitas aplicações de engenharia, entre eles a termodinâmica (por exemplo, a definição de uma temperatura superficial) e a dinâmica do fluido (por exemplo, as condições de não deslizamento nas paredes em fluidos viscosos)."
   ]
  },
  {
   "cell_type": "markdown",
   "metadata": {},
   "source": [
    "<div class=\"alert alert-warning\">\n",
    "<b>NOTA: </b> \n",
    "\n",
    "Em geral, não se deve aplicar condições de fronteira do tipo Direchlet, simultaneamente, nas fronteiras de entrada e de saída do escoamento a menos que se conheça a pressão real nessas fronteiras. Pode-se originar soluções fisicamente incorretas ou mesmo divergência do método numérico.\n",
    "</div>"
   ]
  },
  {
   "cell_type": "markdown",
   "metadata": {},
   "source": [
    "##### Condição de contorno de Neumann\n",
    "\n",
    "Em problemas de dinâmica dos fluidos computacional, é muito comum resolvermos problemas que exigem condições de fronteira, em que a derivada normal (gradiente) da variável dependente é especificada na fronteira. \n",
    "\n",
    "* O gradiente normal $\\frac{\\partial \\phi}{\\partial n}=f$ ou tangencial $\\frac{\\partial \\phi}{\\partial s}=g$ é especificado na fronteira. Quando $f=0$, dizemos que a condição utilizada é uma __condição de fronteira natural__ ou __homogênia__. \n",
    "\n",
    "Por exemplo, quando temos uma parede adiabática, o fluxo de calor através dessa parede é zero:\n",
    "\n",
    "\\begin{equation}\n",
    "q=k \\frac{\\partial T}{\\partial n}=0,\n",
    "\\end{equation}\n",
    "onde $n$ é a direção normal à parede.\n",
    "\n",
    "Assim, uma vez que $k>0,$ um fluxo nulo de calor na parede implica\n",
    "\n",
    "\\begin{equation}\n",
    "\\frac{\\partial T}{\\partial n}=0.\n",
    "\\end{equation}\n",
    "\n",
    "<div class=\"alert alert-success\" role=\"alert\">\n",
    "Diferentemente da condição de Dirichlet, onde os valores de uma grandeza $\\phi$ na fronteira são conhecidos, na condição de Neumann, apenas o gradiente normal de $\\phi$ na fronteira é especificado. Assim, $\\phi$ na fronteira também é uma incógnita que __deve ser determinada__ como parte do processo de solução.\n",
    "</div>"
   ]
  },
  {
   "cell_type": "markdown",
   "metadata": {},
   "source": [
    "### <span class=\"badge badge-pill badge-warning\">_Pergunta:_</span> <font color='Orange'>Como podemos utilizar está condição de contorno no nosso problema da haste?</font>\n",
    "    \n",
    "### <span class=\"badge badge-pill badge-success\">Resposta:</span> \n",
    "(Fortuna, página 121, 177) Supondo que a extremidade direita da haste ($x=1$) esteja termicamente isolada, de tal modo que não haja fluxo de calor através da extremidade da mesma:\n",
    "\n",
    "\\begin{equation}\n",
    "\\label{eq5}\n",
    "\\left. \\frac{\\partial T}{\\partial x} \\right|_{x=1} = 0\n",
    "\\tag{5}\n",
    "\\end{equation}\n",
    "\n",
    "Utilizando o método de Euler explícito, juntamente com diferenças centrais de segunda ordem para a derivada espacial conforme apresentado nas equações \\ref{eq3} e \\ref{eq4}.\n",
    "\n",
    "Note-se que como já discutido, temos que calcular o valor da varialvel $T$ no ponto $x=1$, e a expressão \\ref{eq4}, faz referência à temperatura em $T^n_{N+1}$. Assim, para o cálcularmos o valor de $T$ na extremidade direita da haste dependemos de um valor $N+1$ que estará fora do nosso domínio. __Ponto fantasma.__\n",
    "\n",
    "Para tratarmos este problema de ponto fantasma, podemos discretizar a condição de fronteira Eq. \\ref{eq5} utilizando diferenças centrais de segunda ordem aplicadas ao ponto $x_N$:\n",
    "\n",
    "\\begin{equation}\n",
    "\\left. \\frac{\\partial T}{\\partial x} \\right|_{x=1} \\approx \\frac{T^n_{N+1} - T^n_{N-1}}{2\\Delta x}=0\n",
    "\\end{equation}\n",
    "\n",
    "Essa discretização implica que \n",
    "\n",
    "\\begin{equation}\n",
    "T^n_{N-1}=T^n_{N+1}.\n",
    "\\end{equation}"
   ]
  },
  {
   "cell_type": "markdown",
   "metadata": {},
   "source": [
    "Pense no que a equação está dizendo: a mudança na temperatura ao se mover na direção $x$ é zero na borda mais à direita da haste. Isso significa que a temperatura deve ser igual nos dois últimos pontos da grade espacial.\n",
    "\n",
    "Para reforçar essa condição de limite de Neumann na extremidade direita da haste, adicionamos a seguinte linha de código:\n",
    "\n",
    "```Python\n",
    "T[-1] = T[-2]\n",
    "```\n",
    "\n",
    "Ou seja, a temperatura no limite (`T [-1]`) é igual à temperatura diretamente à sua esquerda (`T [-2]`). O gradiente espacial é zero e uma condição de Neumann é satisfeita lá."
   ]
  },
  {
   "cell_type": "markdown",
   "metadata": {},
   "source": [
    "As condições de Dirichlet no exemplo da haste foram aplicadas sem nenhuma entrada extra, mas a condição Neumann exigirá uma atualização em cada iteração do loop.\n",
    "\n",
    "Finalmente, os BCs de Dirichlet e Neumann às vezes podem ser misturados para representar melhor a física de um problema.\n",
    "\n",
    "Vamos revisitar o problema da vara aquecida. Desta vez, a temperatura em $x = 0$ permanecerá fixa em $T = 100{\\rm C}$ - essa é a condição de Dirichlet - e um Neumann BC se aplica a $x = 1$."
   ]
  },
  {
   "cell_type": "code",
   "execution_count": 8,
   "metadata": {},
   "outputs": [],
   "source": [
    "def ftcs_mixed(T, nt, dt, dx, alpha):\n",
    "    \"\"\"Solves the diffusion equation with forward-time, centered scheme using\n",
    "    Dirichlet b.c. at left boundary and Neumann b.c. at right boundary\n",
    "    \n",
    "    Parameters:\n",
    "    ----------\n",
    "    u: array of float\n",
    "        Initial temperature profile\n",
    "    nt: int\n",
    "        Number of time steps\n",
    "    dt: float\n",
    "        Time step size\n",
    "    dx: float\n",
    "        Mesh size\n",
    "    alpha: float\n",
    "        Diffusion coefficient (thermal diffusivity)\n",
    "        \n",
    "    Returns:\n",
    "    -------\n",
    "    u: array of float\n",
    "        Temperature profile after nt time steps with forward in time scheme\n",
    "    \n",
    "    \"\"\"\n",
    "    for n in range(nt):  \n",
    "        Tn = T.copy() \n",
    "        T[1:-1] = Tn[1:-1] + alpha*dt/dx**2*(Tn[2:] -2*Tn[1:-1] + Tn[0:-2])\n",
    "        T[-1] = T[-2]\n",
    "        \n",
    "    return T"
   ]
  },
  {
   "cell_type": "code",
   "execution_count": 9,
   "metadata": {},
   "outputs": [],
   "source": [
    "nt = 1000\n",
    "T = ftcs_mixed(Ti.copy(), nt, dt, dx, alpha)"
   ]
  },
  {
   "cell_type": "code",
   "execution_count": 10,
   "metadata": {},
   "outputs": [
    {
     "data": {
      "image/png": "[encoded data removed]",
      "text/plain": [
       "<matplotlib.figure.Figure at 0x7f6196e6ae80>"
      ]
     },
     "metadata": {},
     "output_type": "display_data"
    }
   ],
   "source": [
    "pyplot.plot(numpy.linspace(0,1,nx), T, color='#003366', ls='-', lw=3)\n",
    "pyplot.ylim(0,100)\n",
    "pyplot.title('Rod with LHS Dirichlet B.C. and RHS Neumann B.C.\\n')\n",
    "pyplot.xlabel('Length of Rod')\n",
    "pyplot.ylabel('Temperature');"
   ]
  },
  {
   "cell_type": "markdown",
   "metadata": {},
   "source": [
    "Agora o calor está se acumulando no domínio. Nosso isolador funciona! Se você aumentar ainda mais o número de timesteps `nt`, verá que a temperatura de saída em $x = 1$ continua a aumentar."
   ]
  },
  {
   "cell_type": "markdown",
   "metadata": {},
   "source": [
    "Fortuna 113 - problema discretização explícita\n",
    "\n",
    "\n"
   ]
  },
  {
   "cell_type": "markdown",
   "metadata": {},
   "source": [
    "#### 3.2.2 Esquemas explícitos e condições de contorno\n",
    "\n",
    "Os esquemas numéricos que aprendemos até agora são chamados _explícitos_, porque calculamos a solução atualizada em $t^{n + 1}$ usando apenas informações conhecidas no tempo $t^n$. Isto é simples, mas tem limitações, particularmente com os pequenos tamanhos de tempo necessários para obter estabilidade.\n",
    "\n",
    "Aqui está outro problema com esquemas explícitos. A Figura 3 mostra o estêncil sobreposto de vários pontos da malha em três etapas de tempo calculadas usando o esquema já apresentado anteriormente. Sabemos que para calcular $T_i^{n + 1}$ utilizamos as informações dos pontos de grade $i-1, i, i + 1$ no passo de tempo anterior. Pense no que acontece na fronteira: qualquer alteração na condição de fronteira alimentará a solução apenas na próxima etapa, não imediatamente. Mas isso contradiz a física do problema, pois qualquer mudança na fronteira deve ser sentida imediatamente sob a equação de difusão. Para incluir efeitos de fronteira no mesmo nível de tempo, podemos usar uma atualização implícita (assunto da próxima lição)."
   ]
  },
  {
   "cell_type": "markdown",
   "metadata": {},
   "source": [
    "![explicitFTCS-BCeffect](./figuras/explicitFTCS-BCeffect.png)\n",
    "#### <center> Figura 3. Propagação da condição de contornoem uma discretização explícita."
   ]
  },
  {
   "cell_type": "code",
   "execution_count": 11,
   "metadata": {},
   "outputs": [
    {
     "data": {
      "text/html": [
       "<style>\n",
       "@import url(http://fonts.googleapis.com/css?family=Lato|Source+Code+Pro|Montserrat:400,700);\n",
       "body {\n",
       "font-family: 'Lato', sans-serif !important;\n",
       "font-size: 1.25em !important;\n",
       "line-height: 30px !important;\n",
       "font-weight: 400 !important;\n",
       "color: #000000 !important;\n",
       "}\n",
       "#notebook-container {\n",
       "-webkit-box-shadow: none;\n",
       "box-shadow: none;\n",
       "}\n",
       ".rendered_html h1 { font-size: 4rem !important;  }\n",
       ".rendered_html h2 { font-size: 3rem !important; }\n",
       ".rendered_html h3 { font-size: 2.5rem !important; }\n",
       ".rendered_html h4 { font-size: 2rem !important; }\n",
       ".rendered_html h5 { font-size: 1.5rem !important; }\n",
       ".rendered_html h6 { font-size: 1.5rem !important; }\n",
       ".rendered_html h1, \n",
       ".rendered_html h2, \n",
       ".rendered_html h3, \n",
       ".rendered_html h4,\n",
       ".rendered_html h5, \n",
       ".rendered_html h6 {\n",
       "font-family: 'Montserrat', sans-serif !important;\n",
       "font-weight: 300 !important;\n",
       "line-height: 1.5em !important;\n",
       "color: rgb(0,51,102) !important;\n",
       "}\n",
       "h1 { font-size: 4.5rem !important; }\n",
       "h2 { font-size: 4rem !important; }\n",
       "h3 { font-size: 3.5rem !important; }\n",
       "h4 { font-size: 3rem !important; }\n",
       "h5 { font-size: 2.5rem !important; }\n",
       "h6 { font-size: 1.5rem !important; }\n",
       "h1, h2, h3, h4, h5, h6 {\n",
       "font-family: 'Montserrat', sans-serif !important;\n",
       "color: #e6ae48 !important;\n",
       "line-height: 150px !important;\n",
       "}\n",
       "p {\n",
       "font-family: 'Lato', sans-serif !important;\n",
       "font-size: 1.25em !important;\n",
       "line-height: 30px !important;\n",
       "font-weight: 400 !important;\n",
       "color: #000000 !important;\n",
       "}\n",
       "li {\n",
       "font-family: 'Lato', sans-serif !important;\n",
       "font-size: 1.25em !important;\n",
       "line-height: 30px !important;\n",
       "font-weight: 400 !important;\n",
       "color: #000000 !important;\n",
       "}\n",
       "code {\n",
       "font-family: 'Source Code Pro', sans-serif !important;\n",
       "font-size: 1em !important;\n",
       "}\n",
       "pre {\n",
       "font-family: 'Source Code Pro', sans-serif !important;\n",
       "font-size: 1em !important;\n",
       "}\n",
       "div.input_area {\n",
       "border: none !important;\n",
       "background: whitesmoke !important;\n",
       "}\n",
       ".alert-box {\n",
       "    padding:10px 10px 10px 36px;\n",
       "    margin:5px;\n",
       "}\n",
       "\n",
       "<style>\n",
       "<script>\n",
       "    MathJax.Hub.Config({\n",
       "                        TeX: {\n",
       "                           extensions: [\"AMSmath.js\"],\n",
       "                           equationNumbers: { autoNumber: \"AMS\", useLabelIds: true}\n",
       "                           },\n",
       "                tex2jax: {\n",
       "                    inlineMath: [ ['$','$'], [\"\\\\(\",\"\\\\)\"] ],\n",
       "                    displayMath: [ ['$$','$$'], [\"\\\\[\",\"\\\\]\"] ]\n",
       "                },\n",
       "                displayAlign: 'center', // Change this to 'center' to center equations.\n",
       "                \"HTML-CSS\": {\n",
       "                    styles: {'.MathJax_Display': {\"margin\": 4}}\n",
       "                }\n",
       "        });\n",
       "</script>\n",
       "\n",
       "\n"
      ],
      "text/plain": [
       "<IPython.core.display.HTML object>"
      ]
     },
     "execution_count": 11,
     "metadata": {},
     "output_type": "execute_result"
    }
   ],
   "source": [
    "from IPython.core.display import HTML\n",
    "css_file = '../styles/custom.css'\n",
    "HTML(open(css_file, \"r\").read())"
   ]
  }
 ],
 "metadata": {
  "kernelspec": {
   "display_name": "Python 3",
   "language": "python",
   "name": "python3"
  },
  "language_info": {
   "codemirror_mode": {
    "name": "ipython",
    "version": 3
   },
   "file_extension": ".py",
   "mimetype": "text/x-python",
   "name": "python",
   "nbconvert_exporter": "python",
   "pygments_lexer": "ipython3",
   "version": "3.6.4"
  }
 },
 "nbformat": 4,
 "nbformat_minor": 2
}
