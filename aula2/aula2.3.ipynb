{
 "cells": [
  {
   "cell_type": "markdown",
   "metadata": {},
   "source": [
    "###### Material desenvolvido para o minicurso: Introdução à solução numérica de EDP's, ministrado no ERMAC/2018 de 5 a 6 de abril de 2018 na Universidade Federal de Lavras, Lavras/MG, Brasil. Autor: [Jonas Laerte Ansoni](http://jonasansoni.blogspot.com.br/)."
   ]
  },
  {
   "cell_type": "markdown",
   "metadata": {},
   "source": [
    "<img src=\"./figuras/logoemarc.png\" width=\"30%\">"
   ]
  },
  {
   "cell_type": "markdown",
   "metadata": {},
   "source": [
    "# <center> Minicurso:<font color='blue'> Introdução à solução numérica de EDP's"
   ]
  },
  {
   "cell_type": "markdown",
   "metadata": {},
   "source": [
    "## <center> Equação parabólica\n",
    "    \n",
    "### Equação transiente de difusão de calor    \n",
    "######  Olhar Fortuna página 113"
   ]
  },
  {
   "cell_type": "markdown",
   "metadata": {},
   "source": [
    "A equação clássica para problemas parabólicos é a equação transiente de difusão de calor:\n",
    "\n",
    "\\begin{equation}\n",
    "\\frac{\\partial T}{\\partial t} = \\alpha \\frac{\\partial^2 T}{\\partial x^2}\n",
    "\\tag{1}\n",
    "\\end{equation}\n",
    "\n",
    "onde, $\\alpha$ é o ceficiente de difusividade térmica (propriedade do material), e $T$ é a temperatura.\n",
    "\n",
    "Na lição anterior, vimos a solução numérica da equação de difusão 1D com um esquema progressivo no temo e centrado no espaço: um esquema _explícito_. O que isso significa?\n",
    "\n",
    "A solução para $T$ em timestep $t^{n + 1}$ foi calculada usando diferentes combinações de valores de $T$ do timestep *anterior* $t^n$. Temos conhecimento completo das partes que alimentam a atualização da solução em cada ponto espacial.\n",
    "\n",
    "*Os métodos implícitos* funcionam de maneira diferente: usaremos mais dados do \"futuro\" na atualização, incluindo vários valores de $T$ em $t^{n + 1}$. Isso tornará o esquema mais difícil de se aplicar, mas existem várias razões pelas quais pode valer a pena o esforço.\n",
    "\n",
    "Na lição anterior, discutimos duas desvantagens dos métodos explícitos: (1) efeitos de fronteira arrastados para trás por um passo de tempo; (2) os requisitos de estabilidade restringem o intervalo de tempo a valores muito pequenos. Ambas as questões são resolvidas por esquemas implícitos."
   ]
  },
  {
   "cell_type": "markdown",
   "metadata": {},
   "source": [
    "#### 3.2.3 Esquemas implícitos\n",
    "\n",
    "Ao contrário das discretizações explícitas, nos métodos implícitos as derivadas espaciais são discretizadas no nível de tempo $n+1$. Como exemplo, ao discretizarmos a derivada espacial por diferenças centrais de segunda ordem e a derivada temporal por diferenças atrasadas de primeira ordem temos:\n",
    "\n",
    "\\begin{equation}\n",
    "\\label{eq1}\n",
    "\\frac{T_{i}^{n+1}-T_{i}^{n}}{\\Delta t}=\\alpha\\frac{T_{i+1}^{n+1}-2T_{i}^{n+1}+T_{i-1}^{n+1}}{\\Delta x^2}+{\\mathcal O}[(\\Delta t),(\\Delta x)^2]\n",
    "\\tag{1}\n",
    "\\end{equation}\n",
    "\n",
    "O estêncil para esta discretização não se parece em nada com os outros estênceis que usamos até agora. Confira."
   ]
  },
  {
   "cell_type": "markdown",
   "metadata": {},
   "source": [
    "![stencil-implicitcentral](./figuras/stencil-implicitcentral.png)\n",
    "#### <center> Figure 1. Estêncil para o esquema implícito da Eq. \\ref{eq1}."
   ]
  },
  {
   "cell_type": "markdown",
   "metadata": {},
   "source": [
    "Do passo no tempo anterior, conhecemos apenas $T_i^{n}$, mas os outros termos $T_i^{n+1}$, $T_{i-1}^{n+1}$ and $T_{i+1}^{n+1}$?  Como podemos calcular?\n",
    "\n",
    "Não precisa entrar em pânico! Vamos começar colocando o que *conhecemos* no lado direito da equação e o que *não conhecemos* à esquerda. Nós temos então:\n",
    "\n",
    "\\begin{equation} -T_{i-1}^{n+1} + \\left( 2 + \\frac{\\Delta x^2}{\\alpha\\Delta t}\\right) T_{i}^{n+1} - T_{i+1}^{n+1} = T_{i}^{n}\\frac{\\Delta x^2}{\\alpha\\Delta t} \\end{equation} \n",
    "\n",
    "Parece que há muitas incógnitas e apenas uma equação!\n",
    "\n",
    "Com o que se parece com $i = 1$?\n",
    "\n",
    "\\begin{equation}-T_{0}^{n+1} + \\left( 2 + \\frac{\\Delta x^2}{\\alpha\\Delta t}\\right) T_{1}^{n+1} - T_{2}^{n+1} = T_{1}^{n}\\frac{\\Delta x^2}{\\alpha\\Delta t} \\end{equation}\n",
    "\n",
    "e $i=2$?\n",
    "\n",
    "\\begin{equation}-T_{1}^{n+1} + \\left( 2 + \\frac{\\Delta x^2}{\\alpha\\Delta t}\\right) T_{2}^{n+1} - T_{3}^{n+1} = T_{2}^{n}\\frac{\\Delta x^2}{\\alpha\\Delta t} \\end{equation}\n",
    "\n",
    "e sobre $i=3$?\n",
    "\n",
    "\\begin{equation}-T_{2}^{n+1} + \\left( 2 + \\frac{\\Delta x^2}{\\alpha\\Delta t}\\right) T_{3}^{n+1} - T_{4}^{n+1} = T_{3}^{n}\\frac{\\Delta x^2}{\\alpha\\Delta t} \\end{equation}\n",
    "\n",
    "Você consegue ver o elemento comum entre as equações? Aqui está uma pequena ajuda:\n",
    "\n",
    "<img src=\"./figuras/implicit_formula.svg\" style=\"width: 400px;\"/>\n",
    "\n",
    "$T_{i}^{n + 1}$ também aparece na equação de $T_{i-1}^{n + 1}$ e $T_{i + 1}^{n + 1}$. Podemos ter equações suficientes se aplicarmos isso para todos os valores $i$ ao mesmo tempo, você não acha? Na verdade, este é um sistema linear de equações para os valores desconhecidos $T_{i}^{n + 1}$ na malha espacial."
   ]
  },
  {
   "cell_type": "markdown",
   "metadata": {},
   "source": [
    "#### E as condições de contorno?\n",
    "\n",
    "Vejamos os pontos nas fronteiras do exemplo da lição anterior com Dirichlet em $x = 0$ e Neumann em $x = 1$, discretizando com $N$ pontos de malha.\n",
    "\n",
    "O valor $T_0^{n + 1}$ é conhecido a cada passo de tempo do BC, então colocando todos os termos desconhecidos no lado esquerdo da equação e os valores conhecidos no lado direito geram o seguinte para $i = 1$:\n",
    "\n",
    "\\begin{equation}-T_{2}^{n+1} + \\left( 2 + \\frac{\\Delta x^2}{\\alpha\\Delta t}\\right) T_{1}^{n+1} = T_{1}^{n}\\frac{\\Delta x^2}{\\alpha\\Delta t} + T_{0}^{n+1} \\end{equation}\n",
    "\n",
    "Essa foi fácil!\n",
    "\n",
    "Por outro lado, para $i = N-2$, a equação diz\n",
    "\n",
    "\\begin{equation} -T_{N-3}^{n+1} + \\left( 2 + \\frac{\\Delta x^2}{\\alpha\\Delta t}\\right) T_{N-2}^{n+1} - T_{N-1}^{n+1} = T_{N-2}^{n}\\frac{\\Delta x^2}{\\alpha\\Delta t} \\end{equation} \n",
    "\n",
    "A condição de fronteira de Neumann discretizada no lado direito da haste é\n",
    "\n",
    "\\begin{equation}\\frac{T^{n}_{N-1} - T^{n}_{N-2}}{\\Delta x} = q.\\end{equation}\n",
    "\n",
    "Mas podemos facilmente escrever que no passo de tempo $n + 1$ (as condições de contorno se aplicam a cada passo de tempo):\n",
    "\n",
    "\\begin{equation}\\frac{T^{n+1}_{N-1} - T^{n+1}_{N-2}}{\\Delta x} = q.\\end{equation}\n",
    "\n",
    "Inserindo a condição de fronteira de Neumann na equação para $i = N-2$ \n",
    "\n",
    "\\begin{equation} - T_{N-3}^{n+1} + \\left( 1 + \\frac{\\Delta x^2}{\\alpha\\Delta t}\\right) T_{N-2}^{n+1} = T_{N-2}^{n}\\frac{\\Delta x^2}{\\alpha\\Delta t} + \\Delta x q \\end{equation}\n",
    "\n",
    "Certifique-se de trabalhar com caneta e papel: é importante reconhecer de onde vêm esses termos!\n",
    "\n",
    "Esse conjunto de equações pode ser escrito no forma matricial\n",
    "\n",
    "$$[A][x] = [b]+[b]_{b.c.}$$\n",
    "\n",
    "onde a matriz de coeficientes $[A]$ é uma matriz esparsa - a maioria dos elementos da matriz é zero - com três diagonais diferentes de zero. Nós escrevemos abaixo o sistema expandido, assim você pode ver a estrutura da matriz, com $\\sigma = \\frac{\\alpha \\Delta t}{\\Delta x^2}$:\n"
   ]
  },
  {
   "cell_type": "markdown",
   "metadata": {},
   "source": [
    "\\begin{align}\\left[ \\begin{array}{cccccc}\n",
    " \\left(2 + \\frac{1}{\\sigma}\\right) & -1 & 0 & \\cdots & & 0 \\\\\n",
    " -1 & \\left(2 + \\frac{1}{\\sigma}\\right) & -1 & 0 & \\cdots & 0 \\\\\n",
    " 0 & & \\ddots& & & \\vdots \\\\\n",
    " \\vdots & & & & \\left(2 + \\frac{1}{\\sigma}\\right)& \\\\\n",
    " 0 & \\cdots & & & -1 & \\left(1 + \\frac{1}{\\sigma}\\right) \\end{array} \\right]\n",
    " \\cdot \n",
    " \\left[ \\begin{array}{c} \n",
    " T_1^{n+1} \\\\ T_2^{n+1} \\\\ \\vdots \\\\ \\\\ T_{N-2}^{n+1} \\end{array} \\right]\n",
    " =\n",
    " \\left[ \\begin{array}{c} \n",
    "T_1^n \\frac{1}{\\sigma} \\\\ T_2^{n}\\frac{1}{\\sigma} \\\\ \\vdots \\\\ \\\\ T_{N-2}^{n}\\frac{1}{\\sigma} \\end{array} \\right]\n",
    " +\n",
    " \\begin{bmatrix}\n",
    "  T_0^{n+1}\\\\\n",
    "  0\\\\\\\\\n",
    "  \\vdots\\\\\\\\\n",
    "  0\\\\\n",
    "  q\\Delta x\n",
    " \\end{bmatrix}\n",
    " \\end{align} \n",
    " \n",
    "O sistema é formado por equações linearmente independentes e possui o mesmo número de incógnitas, admitindo, portanto, uma única solução. \n",
    "\n",
    "Aqui podemos notar uma grande diferença entre métodos explícitos e implícitos. No primeiro, as equações resultados são independentes, permitindo a solução direta. Já no método implícito, elas são acopladas, exigindo a resolução de um sistema de equações a cada passo no tempo. "
   ]
  },
  {
   "cell_type": "markdown",
   "metadata": {},
   "source": [
    "#### Problema de aplicação\n",
    "\n",
    "Vamos reutilizar o problema anterior: temos uma haste de grafite com [difusividade térmica](http://en.wikipedia.org/wiki/Thermal_diffusivity) $\\alpha = 1,22\\times10^{- 3}{\\rm m}^2/{\\rm s}$, comprimento $L = 1{\\rm m}$ e temperatura mantida em $T = 100{\\rm C}$ no lado esquerdo, $x = 0$, e $0{\\rm C}$ em qualquer outro lugar inicialmente. Nós calcularemos a evolução da temperatura no comprimento da haste.\n",
    "\n",
    "Vamos começar como fizemos na lição anterior: importe suas bibliotecas e configure a discretização."
   ]
  },
  {
   "cell_type": "code",
   "execution_count": 1,
   "metadata": {},
   "outputs": [],
   "source": [
    "import numpy\n",
    "from matplotlib import pyplot\n",
    "%matplotlib inline\n",
    "from matplotlib import rcParams\n",
    "rcParams['font.family'] = 'serif'\n",
    "rcParams['font.size'] = 16"
   ]
  },
  {
   "cell_type": "code",
   "execution_count": 2,
   "metadata": {},
   "outputs": [],
   "source": [
    "L = 1.\n",
    "nt = 100\n",
    "nx = 51\n",
    "alpha = 1.22e-3\n",
    "\n",
    "q = 0.\n",
    "\n",
    "dx = L/(nx-1)\n",
    "\n",
    "qdx = q*dx\n",
    "\n",
    "Ti = numpy.zeros(nx)\n",
    "Ti[0] = 100"
   ]
  },
  {
   "cell_type": "markdown",
   "metadata": {},
   "source": [
    "### Resolvendo o sistema linear\n",
    "\n",
    "Precisamos resolver o sistema linear de equações escritas acima para avançar a solução no tempo. Felizmente, podemos confiar em nossos amigos da SciPy que desenvolveram bons solucionadores lineares, portanto não precisamos escrever os nossos.\n",
    "\n",
    "A partir do `scipy.linalg`, vamos importar um `solve`: uma função para resolver sistemas lineares. Certifique-se de explorar a documentação do [`scipy.linalg`](http://docs.scipy.org/doc/scipy-0.14.0/reference/linalg.html). Precisamos definir nossas próprias funções personalizadas para gerar a matriz de coeficientes e o lado direito do sistema linear. Você deve estudar cuidadosamente o código abaixo."
   ]
  },
  {
   "cell_type": "code",
   "execution_count": 3,
   "metadata": {},
   "outputs": [],
   "source": [
    "from scipy.linalg import solve"
   ]
  },
  {
   "cell_type": "code",
   "execution_count": 4,
   "metadata": {},
   "outputs": [],
   "source": [
    "def generateMatrix(N, sigma):\n",
    "    \"\"\" Computes the matrix for the diffusion equation with backward Euler\n",
    "        Dirichlet condition at i=0, Neumann at i=-1\n",
    "    \n",
    "    Parameters:\n",
    "    ----------\n",
    "    N: int\n",
    "        number of spatial grids\n",
    "    sigma: float \n",
    "        alpha*dt/dx^2\n",
    "    \n",
    "    Returns:\n",
    "    -------\n",
    "    A: 2D numpy array of float\n",
    "        Matrix for diffusion equation\n",
    "    \"\"\"\n",
    "   \n",
    "    # Setup the diagonal\n",
    "    d = numpy.diag(numpy.ones(N-2)*(2+1./sigma))\n",
    "    \n",
    "    # Consider Neumann BC\n",
    "    d[-1,-1] = 1+1./sigma\n",
    "    \n",
    "    # Setup upper diagonal\n",
    "    ud = numpy.diag(numpy.ones(N-3)*-1, 1)\n",
    "    \n",
    "    # Setup lower diagonal\n",
    "    ld = numpy.diag(numpy.ones(N-3)*-1, -1)\n",
    "    \n",
    "    A = d + ud + ld\n",
    "    \n",
    "    return A"
   ]
  },
  {
   "cell_type": "code",
   "execution_count": 5,
   "metadata": {},
   "outputs": [],
   "source": [
    "def generateRHS(T, sigma, qdx):\n",
    "    \"\"\" Computes right-hand side of linear system for diffusion equation\n",
    "        with backward Euler\n",
    "    \n",
    "    Parameters:\n",
    "    ----------\n",
    "    T: array of float\n",
    "        Temperature at current time step\n",
    "    sigma: float\n",
    "        alpha*dt/dx^2\n",
    "    qdx: float\n",
    "        flux at right boundary * dx\n",
    "    \n",
    "    Returns:\n",
    "    -------\n",
    "    b: array of float\n",
    "        Right-hand side of diffusion equation with backward Euler\n",
    "    \"\"\"\n",
    "    \n",
    "    b = T[1:-1]*1./sigma\n",
    "    # Consider Dirichlet BC\n",
    "    b[0] += T[0]\n",
    "    # Consider Neumann BC\n",
    "    b[-1] += qdx\n",
    "    \n",
    "    return b"
   ]
  },
  {
   "cell_type": "markdown",
   "metadata": {},
   "source": [
    "Em seguida, vamos definir uma função de passos no tempo o esquema implícito desenvolvido acima. Lembre-se de que, para um método implícito, é executado um passo no tempo resolvendo todo o sistema linear. Esta é uma diferença fundamental entre métodos implícitos e explícitos, e implica um custo computacional considerável."
   ]
  },
  {
   "cell_type": "markdown",
   "metadata": {},
   "source": [
    "Estamos todos prontos para executar! Primeiro, vamos usar um passo de tempo `dt` que satisfaz a restrição de estabilidade."
   ]
  },
  {
   "cell_type": "code",
   "execution_count": 6,
   "metadata": {},
   "outputs": [],
   "source": [
    "def implicit_btcs(T, A, nt, sigma, qdx):\n",
    "    \"\"\" Advances diffusion equation in time with implicit central scheme\n",
    "   \n",
    "    Parameters:\n",
    "    ----------\n",
    "    T: array of float\n",
    "        initial temperature profile\n",
    "    A: 2D array of float\n",
    "        Matrix with discretized diffusion equation\n",
    "    nt: int\n",
    "        number of time steps\n",
    "    sigma: float\n",
    "        alpha*dt/dx^2\n",
    "        \n",
    "    qdx: float\n",
    "        flux at right boundary * dx\n",
    "    Returns:\n",
    "    -------\n",
    "    T: array of floats\n",
    "        temperature profile after nt time steps\n",
    "    \"\"\"\n",
    "    \n",
    "    for t in range(nt):\n",
    "        Tn = T.copy()\n",
    "        b = generateRHS(Tn, sigma, qdx)\n",
    "        # Use scipy.linalg.solve\n",
    "        T_interior = solve(A,b)\n",
    "        T[1:-1] = T_interior\n",
    "        # Enforce Neumann BC (Dirichlet is enforced automatically)\n",
    "        T[-1] = T[-2] + qdx\n",
    "\n",
    "    return T"
   ]
  },
  {
   "cell_type": "markdown",
   "metadata": {},
   "source": [
    "Nós resolvemos o sistema linear para cada etapa de tempo, mas a matriz $A$ não muda. Assim, você pode gerá-lo apenas uma vez e usá-lo como um parâmetro de entrada para a função de escalonamento de tempo. Vamos tentar isso!"
   ]
  },
  {
   "cell_type": "code",
   "execution_count": 7,
   "metadata": {},
   "outputs": [],
   "source": [
    "sigma = 0.5\n",
    "dt = sigma * dx*dx/alpha \n",
    "nt = 1000\n",
    "\n",
    "A = generateMatrix(nx, sigma)"
   ]
  },
  {
   "cell_type": "markdown",
   "metadata": {},
   "source": [
    "É sempre uma boa ideia checar sua matriz ..."
   ]
  },
  {
   "cell_type": "code",
   "execution_count": 8,
   "metadata": {},
   "outputs": [
    {
     "name": "stdout",
     "output_type": "stream",
     "text": [
      "[[ 4. -1.  0. ...  0.  0.  0.]\n",
      " [-1.  4. -1. ...  0.  0.  0.]\n",
      " [ 0. -1.  4. ...  0.  0.  0.]\n",
      " ...\n",
      " [ 0.  0.  0. ...  4. -1.  0.]\n",
      " [ 0.  0.  0. ... -1.  4. -1.]\n",
      " [ 0.  0.  0. ...  0. -1.  3.]]\n"
     ]
    }
   ],
   "source": [
    "print(A)"
   ]
  },
  {
   "cell_type": "markdown",
   "metadata": {},
   "source": [
    "Parece bom!\n",
    "\n",
    "Agora, aplicamos a iteração de tempo com nossa própria função `implicit_btcs ()`."
   ]
  },
  {
   "cell_type": "code",
   "execution_count": 9,
   "metadata": {},
   "outputs": [],
   "source": [
    "T = implicit_btcs(Ti.copy(), A, nt, sigma, qdx)"
   ]
  },
  {
   "cell_type": "markdown",
   "metadata": {},
   "source": [
    "Agora plote a solução!!"
   ]
  },
  {
   "cell_type": "code",
   "execution_count": 10,
   "metadata": {},
   "outputs": [
    {
     "data": {
      "image/png": "[encoded data removed]",
      "text/plain": [
       "<matplotlib.figure.Figure at 0x7f76745df3c8>"
      ]
     },
     "metadata": {},
     "output_type": "display_data"
    }
   ],
   "source": [
    "pyplot.plot(numpy.linspace(0,1,nx), T, color='#003366', ls='-', lw=3);"
   ]
  },
  {
   "cell_type": "markdown",
   "metadata": {},
   "source": [
    "Não muito impressionante, isso se parece com o resultado do caso *explícito* progressivo no tempo, centralizado no espaço para $\\alpha\\frac{\\Delta t}{\\Delta x^2}=\\frac{1}{2}$.\n",
    "\n",
    "Mas tente $\\alpha\\frac{\\Delta t}{\\Delta x^2}=5$, o que viola a condição de estabilidade do esquema *explícito*:"
   ]
  },
  {
   "cell_type": "code",
   "execution_count": 11,
   "metadata": {},
   "outputs": [
    {
     "data": {
      "image/png": "[encoded data removed]",
      "text/plain": [
       "<matplotlib.figure.Figure at 0x7f76745f9e10>"
      ]
     },
     "metadata": {},
     "output_type": "display_data"
    }
   ],
   "source": [
    "sigma = 5.0\n",
    "\n",
    "A = generateMatrix(nx, sigma)\n",
    "\n",
    "T = implicit_btcs(Ti.copy(), A, nt, sigma, qdx)\n",
    "\n",
    "pyplot.plot(numpy.linspace(0,1,nx), T, color='#003366', ls='-', lw=3);"
   ]
  },
  {
   "cell_type": "markdown",
   "metadata": {},
   "source": [
    "**Não explodiu!**\n",
    "\n",
    "Nós não fomos capazes de usar um passo de tempo tão grande com o esquema explícito. Você pode experimentar outros valores de `sigma` e obterá uma solução estável. Na verdade, esse é um esquema *incondicionalmente estável* - o recurso mais valioso dos métodos implícitos é que eles fornecem soluções estáveis sem uma restrição na escolha do passo de tempo.\n",
    "\n",
    "Usando o esquema implícito, sempre podemos avançar no tempo usando passos de tempo maiores. Mas cada etapa de tempo requer a solução de um sistema linear, que é computacionalmente caro. Esse é o __trade-off__ entre métodos explícitos e implícitos."
   ]
  },
  {
   "cell_type": "markdown",
   "metadata": {},
   "source": [
    "<div class=\"alert alert-danger\" role=\"alert\">\n",
    "  __Atenção!!__\n",
    "  <br>\n",
    "  Métodos implícitos permitem que você use passos de tempo significativamente maiores, porque eles não estão sujeitos a restrições de estabilidade. Mas isso não significa que você pode usar apenas um grande intervalo de tempo! Lembre-se de que o método de Euler é um método de primeira ordem, então a _precisão_ fica pior à medida que você aumenta o intervalo de tempo, em proporção direta. Na verdade, você pode perder a capacidade de capturar a física correta se seu intervalo de tempo for muito grande. Estabilidade numérica não implica precisão!\n",
    "</div>"
   ]
  },
  {
   "cell_type": "markdown",
   "metadata": {},
   "source": [
    "#### Dig deeper\n",
    "\n",
    "Você vê como a matriz 'A' está quase cheia de zeros? Chamamos essa matriz de *esparsa* e há muitas maneiras de fazer cálculos mais eficientes aproveitando sua estrutura específica. Primeiro de tudo, você pode otimizar o uso da memória. Confira os [formatos de armazenamento de matriz esparsa] do SciPy (http://docs.scipy.org/doc/scipy-0.14.0/reference/sparse.html): você não precisa de muito armazenamento $(N-2)^2$ elementos! Por exemplo, um formato `coo_matrix` armazena apenas $3*N_\\text{nonzero}$, em que $N_\\text{nonzero}$ é o número de elementos diferentes de zero em `A`. Certifique-se de explorar este tópico um pouco mais. É um tópico importante em PDEs numéricos."
   ]
  },
  {
   "cell_type": "code",
   "execution_count": 12,
   "metadata": {},
   "outputs": [
    {
     "data": {
      "text/html": [
       "<style>\n",
       "@import url(http://fonts.googleapis.com/css?family=Lato|Source+Code+Pro|Montserrat:400,700);\n",
       "body {\n",
       "font-family: 'Lato', sans-serif !important;\n",
       "font-size: 1.25em !important;\n",
       "line-height: 30px !important;\n",
       "font-weight: 400 !important;\n",
       "color: #000000 !important;\n",
       "}\n",
       "#notebook-container {\n",
       "-webkit-box-shadow: none;\n",
       "box-shadow: none;\n",
       "}\n",
       ".rendered_html h1 { font-size: 4rem !important;  }\n",
       ".rendered_html h2 { font-size: 3rem !important; }\n",
       ".rendered_html h3 { font-size: 2.5rem !important; }\n",
       ".rendered_html h4 { font-size: 2rem !important; }\n",
       ".rendered_html h5 { font-size: 1.5rem !important; }\n",
       ".rendered_html h6 { font-size: 1.5rem !important; }\n",
       ".rendered_html h1, \n",
       ".rendered_html h2, \n",
       ".rendered_html h3, \n",
       ".rendered_html h4,\n",
       ".rendered_html h5, \n",
       ".rendered_html h6 {\n",
       "font-family: 'Montserrat', sans-serif !important;\n",
       "font-weight: 300 !important;\n",
       "line-height: 1.5em !important;\n",
       "color: rgb(0,51,102) !important;\n",
       "}\n",
       "h1 { font-size: 4.5rem !important; }\n",
       "h2 { font-size: 4rem !important; }\n",
       "h3 { font-size: 3.5rem !important; }\n",
       "h4 { font-size: 3rem !important; }\n",
       "h5 { font-size: 2.5rem !important; }\n",
       "h6 { font-size: 1.5rem !important; }\n",
       "h1, h2, h3, h4, h5, h6 {\n",
       "font-family: 'Montserrat', sans-serif !important;\n",
       "color: #e6ae48 !important;\n",
       "line-height: 150px !important;\n",
       "}\n",
       "p {\n",
       "font-family: 'Lato', sans-serif !important;\n",
       "font-size: 1.25em !important;\n",
       "line-height: 30px !important;\n",
       "font-weight: 400 !important;\n",
       "color: #000000 !important;\n",
       "}\n",
       "li {\n",
       "font-family: 'Lato', sans-serif !important;\n",
       "font-size: 1.25em !important;\n",
       "line-height: 30px !important;\n",
       "font-weight: 400 !important;\n",
       "color: #000000 !important;\n",
       "}\n",
       "code {\n",
       "font-family: 'Source Code Pro', sans-serif !important;\n",
       "font-size: 1em !important;\n",
       "}\n",
       "pre {\n",
       "font-family: 'Source Code Pro', sans-serif !important;\n",
       "font-size: 1em !important;\n",
       "}\n",
       "div.input_area {\n",
       "border: none !important;\n",
       "background: whitesmoke !important;\n",
       "}\n",
       ".alert-box {\n",
       "    padding:10px 10px 10px 36px;\n",
       "    margin:5px;\n",
       "}\n",
       "\n",
       "<style>\n",
       "<script>\n",
       "    MathJax.Hub.Config({\n",
       "                        TeX: {\n",
       "                           extensions: [\"AMSmath.js\"],\n",
       "                           equationNumbers: { autoNumber: \"AMS\", useLabelIds: true}\n",
       "                           },\n",
       "                tex2jax: {\n",
       "                    inlineMath: [ ['$','$'], [\"\\\\(\",\"\\\\)\"] ],\n",
       "                    displayMath: [ ['$$','$$'], [\"\\\\[\",\"\\\\]\"] ]\n",
       "                },\n",
       "                displayAlign: 'center', // Change this to 'center' to center equations.\n",
       "                \"HTML-CSS\": {\n",
       "                    styles: {'.MathJax_Display': {\"margin\": 4}}\n",
       "                }\n",
       "        });\n",
       "</script>\n",
       "\n",
       "\n"
      ],
      "text/plain": [
       "<IPython.core.display.HTML object>"
      ]
     },
     "execution_count": 12,
     "metadata": {},
     "output_type": "execute_result"
    }
   ],
   "source": [
    "from IPython.core.display import HTML\n",
    "css_file = '../styles/custom.css'\n",
    "HTML(open(css_file, \"r\").read())"
   ]
  }
 ],
 "metadata": {
  "kernelspec": {
   "display_name": "Python 3",
   "language": "python",
   "name": "python3"
  },
  "language_info": {
   "codemirror_mode": {
    "name": "ipython",
    "version": 3
   },
   "file_extension": ".py",
   "mimetype": "text/x-python",
   "name": "python",
   "nbconvert_exporter": "python",
   "pygments_lexer": "ipython3",
   "version": "3.6.4"
  }
 },
 "nbformat": 4,
 "nbformat_minor": 2
}
