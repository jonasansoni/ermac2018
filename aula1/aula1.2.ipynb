{
 "cells": [
  {
   "cell_type": "markdown",
   "metadata": {},
   "source": [
    "###### Material desenvolvido para o minicurso: Introdução à solução numérica de EDP's, ministrado no ERMAC/2018 de 5 a 6 de abril de 2018 na Universidade Federal de Lavras, Lavras/MG, Brasil. Autor: [Jonas Laerte Ansoni](http://jonasansoni.blogspot.com.br/)."
   ]
  },
  {
   "cell_type": "markdown",
   "metadata": {},
   "source": [
    "<img src=\"./figuras/logoemarc.png\" width=\"30%\">"
   ]
  },
  {
   "cell_type": "markdown",
   "metadata": {},
   "source": [
    "# <center> Minicurso:<font color='blue'> Introdução à solução numérica de EDP's"
   ]
  },
  {
   "cell_type": "markdown",
   "metadata": {},
   "source": [
    "Neste _IPython notebook_ iniciaremos os estudos da solução numérica das EDP's apresentando um modelo simplificado da dispersão de poluentes no ar. Através deste exemplo será possível fazer a introdução ao método das diferenças finitas para resolvermos numericamente a equação de transporte (equação de convecção-difusão)."
   ]
  },
  {
   "cell_type": "markdown",
   "metadata": {},
   "source": [
    "## 2. Modelo para a dispersão de poluentes"
   ]
  },
  {
   "cell_type": "markdown",
   "metadata": {},
   "source": [
    "<div class=\"alert alert-light\" role=\"alert\">\n",
    "  Exemplo adaptado do material: Nachbin, A. ; TABAK, E. . Introdução à Modelagem Matemática e Computação Científica II, SBMAC. XX CNMAC/SBMAC, 1997. 114p - https://www.youtube.com/watch?v=iRzUUmEOUO8\n",
    "</div>"
   ]
  },
  {
   "cell_type": "markdown",
   "metadata": {},
   "source": [
    "A chaminé de uma fábrica solta fumaça com um produto tóxico, com uma concentração inicial $\\alpha$. Uma pessoa interessada em comprar a casa a uma distância $d$ da fábrica nos consulta sobre a condição do ar na vizinhança. \n",
    "\n",
    "<img src=\"./figuras/simpsons.gif\" width=\"38%\">\n",
    "\n",
    "<img src=\"./figuras/fig1.png\" width=\"75%\">\n",
    "#### <center> Figura 1. Diagrama ilustrando o problema de dispersão de poluentes.\n",
    "\n",
    "Considerando a pior situação possível, na qual o vento sopra na direção da casa com velocidade máxima $u$. O mecanismo de __transporte__, no qual a nuvem é carregada (transportada) pelo vento sem mudar de forma, é chamado de __advecção__. Também devemos levar em consideração o mecanismos de __difusão__, no qual a nuvem vai se espalhando ao mesmo tempo que a concentração do poluente vai baixando. "
   ]
  },
  {
   "cell_type": "markdown",
   "metadata": {},
   "source": [
    "Acabamos de escolher o modelo físico, ou seja, decidimos que tipos de mecanismos levaremos em conta no nosso estudo. Agora precisamos fazer a representação matemática dos mecanismos de transporte e difusão. \n",
    "\n",
    "<div class=\"alert alert-warning\" role=\"alert\">\n",
    "  <p><font color='Red'> __Objetivo__:</font> Calcular o nível final do poluente (ou seja, a concentração $c=c(x,t)$) nos arredores da casa.</p>\n",
    "</div>"
   ]
  },
  {
   "cell_type": "markdown",
   "metadata": {},
   "source": [
    "### 2.1. Modelo simplificado: Equação de transporte\n",
    "\n",
    "\\begin{equation}\n",
    "\\frac{\\partial c}{\\partial t} = -u \\frac{\\partial c}{\\partial x}+ k \\frac{\\partial^2 c}{\\partial x^2}\n",
    "\\end{equation}\n",
    "\n",
    "<div class=\"alert alert-danger\" role=\"alert\">\n",
    "  <center><h5> Termo advectivo (convectivo) + Temo difusivo: Equação de transporte</h5>\n",
    "</div>"
   ]
  },
  {
   "cell_type": "markdown",
   "metadata": {},
   "source": [
    "Vamos desprezar inicialmente o termo difusivo: $k \\frac{\\partial^2 c}{\\partial x^2}$. Temos então a equação de advecção (convecção), em que $u>0$ é constante:\n",
    "\n",
    "\\begin{equation}\n",
    "\\frac{\\partial c}{\\partial t} + u \\frac{\\partial c}{\\partial x} = 0 \\Longrightarrow \\frac{\\partial c}{\\partial t} = -u \\frac{\\partial c}{\\partial x}\n",
    "\\end{equation}\n",
    "onde o termo $-u \\frac{\\partial c}{\\partial x}$ é o termo convectivo, inercial ou advectivo.\n",
    "\n",
    "A equação representa uma *onda* propagando com velocidade $u$ na direção $x$. Com condição inicial $c(x,0)=c_0(x)$ conforme a figura abaixo, a equação tem solução exata dada por:\n",
    "\n",
    "\\begin{equation}c(x,t)=c_0(x-ut)\\end{equation}\n",
    "\n",
    "\n",
    "<img src=\"./figuras/fig2.png\" width=\"65%\" label=\"assa\">\n",
    "#### <center> Figura 2. Modelagem de uma nuvem de poluente.\n",
    "\n",
    "<div class=\"alert alert-warning\" role=\"alert\">\n",
    "  <p> Verifique isso!!!</p>\n",
    "</div>\n",
    "\n",
    "##### (Pode-se utilizar por exemplo o método das características. Uma exelente explicação pode ser vista nas aulas do prof. André Nachbin (IMPA) [Link](https://youtu.be/2ugsEkBko-0))\n",
    "\n",
    "##### *Livro J. C. Strickwerda, 'Finite Difference Schemes and Partial Differential Equations' , Chapman & Hall, 1989\n"
   ]
  },
  {
   "cell_type": "markdown",
   "metadata": {},
   "source": [
    "<img src=\"./figuras/fig3.png\" width=\"45%\">\n",
    "#### <center> Figura 3. Curvas características para uma onda positiva."
   ]
  },
  {
   "cell_type": "markdown",
   "metadata": {},
   "source": [
    "<div class=\"alert alert-warning\" role=\"alert\">\n",
    "  <p><font color='red'> _Vamos ver agora como resolver numericamente essa equação da onda, e verificar quais as conseguencias das nossas escolhas de qual metodologia numérica utilizada._</font></p>\n",
    "</div>"
   ]
  },
  {
   "cell_type": "markdown",
   "metadata": {},
   "source": [
    "### <font color='blue'> 2.2. Método das diferenças finitas"
   ]
  },
  {
   "cell_type": "markdown",
   "metadata": {},
   "source": [
    "Para que a solução seja calculada precisamos realizar a discretização da equação em relação ao tempo e ao espaço.\n",
    "\n",
    "Vamos considerar o domínio discreto em relação ao *espaço-tempo*, onde as coordenadas na direção horizontal representam o avanço no tempo de $t^n$ à $t^{n+1}$ - e as coordenadas na direção vertical em relação ao movimento no espaço: pontos consecutivos são $x_{i-1}$, $x_i$, e $x_{i+1}$. Isso cria uma malha onde um ponto tem ambos os índices, temporal e espacial. A seguir temos uma representação gráfica da malha tempo-espaço:\n",
    "\n",
    "\\begin{matrix}\n",
    "t^{n+1} & \\rightarrow & \\bullet  && \\bullet  && \\bullet  \\\\\n",
    "t^n & \\rightarrow & \\bullet  && \\bullet  && \\bullet  \\\\\n",
    "& &  x_{i-1} && x_i && x_{i+1}\n",
    "\\end{matrix}\n",
    "\n",
    "Para a solução numérica de $c(x,t)$, utilizaremos os índices subscritos para denotar a posição espacial, como $c_i$, e sobrescrito denota o instante temporal, como $c^n$. Temos portanto a representação discreta como $c^{n}_{i}$.\n",
    " \n",
    "\\begin{matrix}\n",
    "& &\\bullet & & \\bullet & &  \\bullet \\\\\n",
    "& &c^{n+1}_{i-1} & & c^{n+1}_i & & c^{n+1}_{i+1} \\\\\n",
    "& &\\bullet & & \\bullet & &  \\bullet \\\\\n",
    "& &c^n_{i-1} & & c^n_i & & c^n_{i+1} \\\\\n",
    "& &\\bullet & & \\bullet & &  \\bullet \\\\\n",
    "& &c^{n-1}_{i-1} & & c^{n-1}_i & & c^{n-1}_{i+1} \\\\\n",
    "\\end{matrix}\n",
    "\n",
    "Outra maneira de obter a nossa discretização é dizer que ela é obtida por passos constantes no tempo e espaço, $\\Delta t$ e $\\Delta x$, como a seguir:\n",
    "\n",
    "\\begin{eqnarray}\n",
    "x_i &=& i\\, \\Delta x \\quad \\text{and} \\quad t^n= n\\, \\Delta t \\nonumber \\\\\n",
    "c_i^n &=& c(i\\, \\Delta x, n\\, \\Delta t)\n",
    "\\end{eqnarray}"
   ]
  },
  {
   "cell_type": "markdown",
   "metadata": {},
   "source": [
    "### <font color='red'> Desenvolvimento _\"The Flash\"_ dos métodos de diferença finitas na lousa.\n",
    "\n",
    "<div class=\"alert alert-light\" role=\"alert\">\n",
    "  https://www.youtube.com/watch?v=iz22_37mMkk&list=PL30F4C5ABCE62CB61&index=5\n",
    "</div>\n"
   ]
  },
  {
   "cell_type": "markdown",
   "metadata": {},
   "source": [
    "### 2.3. Discretizando nossa equação modelo: Equação hiperbólica"
   ]
  },
  {
   "cell_type": "markdown",
   "metadata": {},
   "source": [
    "Vamos ver como discretizar a equação de convecção linear 1D tanto no espaço como no tempo. Por definição, a derivada parcial em relação ao tempo muda apenas com o tempo e não com o espaço; sua forma discretizada altera apenas os indices $n$. Da mesma forma, a derivada parcial em relação a $x$ muda com o espaço e não o tempo, e apenas os indices $i$ são afetados.\n",
    "\n",
    "Vamos discretizar a coordenada espacial $x$ em pontos indexados de $i=0$ à $N$, e depois realizar os passos no tempo discreto em intervalos de tamanho $\\Delta t$.\n",
    "\n",
    "Considerando a derivada em relação ao tempo e discretizando com diferenças progressivas:\n",
    "\n",
    "\\begin{equation}\\frac{\\partial c}{\\partial t}(i\\Delta x, n\\Delta t)\\approx \\frac{c^{n+1}_i-c^n_i}{\\Delta t}\\end{equation} \n",
    "\n",
    "Aproximando a derivada para o espaço com diferenças atrasadas:\n",
    "\n",
    "\\begin{equation}\\frac{\\partial c}{\\partial x}(i\\Delta x, n\\Delta t)\\approx \\frac{c^{n}_i-c^n_{i-1}}{\\Delta x}\\end{equation} \n",
    "\n",
    "Esta discretização é chamada de <font color='blue'> **upwind,** </font> em que a aproximação da derivada espacial depende da direção de propagação das caracteristicas (na direção de onde vem o escoamento). \n",
    "\n",
    "Para a equação abordada $u>0$ e aplicando a discretização *upwind* acima representada, temos:\n",
    "\n",
    "\\begin{equation} \\frac{c^{n+1}_i-c^n_i}{\\Delta t}+u\\frac{c^{n}_i-c^n_{i-1}}{\\Delta x}=0 \\end{equation}\n",
    "ou\n",
    "\\begin{equation} c^{n+1}_i=c^n_i-u\\frac{\\Delta t}{\\Delta x}(c^{n}_i-c^n_{i-1}) \\end{equation}"
   ]
  },
  {
   "cell_type": "markdown",
   "metadata": {},
   "source": [
    "![FTBS_stencil](figuras/stencil.png)\n",
    "#### <center> Figura 4. Molêcula computacional para o esquema \"forward-time/backward-space\"."
   ]
  },
  {
   "cell_type": "markdown",
   "metadata": {},
   "source": [
    "### <span class=\"badge badge-pill badge-warning\">_Pergunta:_</span> <font color='Orange'> Pergunta: O método apresentado é explícito ou implícito??</font>"
   ]
  },
  {
   "cell_type": "markdown",
   "metadata": {},
   "source": [
    "### Vamos calcular!!!\n"
   ]
  },
  {
   "cell_type": "markdown",
   "metadata": {},
   "source": [
    "A seguir vamos carregar as bibliotecas que vamos utilizar para ler vetores e plotar gráficos. *Let's get a little Python on the road.*"
   ]
  },
  {
   "cell_type": "code",
   "execution_count": 1,
   "metadata": {},
   "outputs": [],
   "source": [
    "import numpy                       \n",
    "from matplotlib import pyplot                 \n",
    "%matplotlib inline\n",
    "from matplotlib import rcParams\n",
    "rcParams['font.family'] = 'serif'\n",
    "rcParams['font.size'] = 16"
   ]
  },
  {
   "cell_type": "markdown",
   "metadata": {},
   "source": [
    "Como o primeira exercício, vamos resolver a equação linear unidimencional com a condição inicial sendo uma *onda quadrada* como descrito a seguir:\n",
    "\n",
    "\\begin{equation}\n",
    "c(x,0)=\\begin{cases}1 & \\text{se } 0,5\\leq x \\leq 1,\\\\\n",
    "0 & \\text{em qualquer outro lugar em } (0, 2)\n",
    "\\end{cases}\n",
    "\\end{equation}\n",
    "\n",
    "Com a condição de contorno em $c=0$ em $x=0$. O domínio espacial para a solução numérica sendo o intervalo $x\\in (0, 2)$."
   ]
  },
  {
   "cell_type": "markdown",
   "metadata": {},
   "source": [
    "<img src=\"./figuras/fig4.png\" width=\"50%\" align=\"center\">\n",
    "\n",
    "#### <center> Figura 5. Onda \"quadrada\" condição inicial."
   ]
  },
  {
   "cell_type": "markdown",
   "metadata": {},
   "source": [
    "Agora vamos definir algumas variáveis; \n",
    "Now let's define a few variables; queremos fazer uma malha de pontos uniformemente espaçada dentro do domínio espacial. No código abaixo, definimos uma variável chamada`nx` que será o número de pontos de malha espacial, e a variável `dx` que será a distância entre qualquer par de pontos adjacentes. Também definimos o passo de tempo, `dt`, sendo o número total de passos no tempo, `nt`. A velocidade da onda (velocidade do vento) é definida como $u=1$.  "
   ]
  },
  {
   "cell_type": "code",
   "execution_count": 2,
   "metadata": {},
   "outputs": [],
   "source": [
    "nx = 41  \n",
    "dx = 2/(nx-1)\n",
    "nt = 25 #25   \n",
    "dt = .025  \n",
    "u = 1      #assume wavespeed of u = 1\n",
    "x = numpy.linspace(0,2,nx)"
   ]
  },
  {
   "cell_type": "markdown",
   "metadata": {},
   "source": [
    "Precisamos configurar a condição inicial do problema. Aqui utilizamos a função NumPy `zeros()`, definindo um vetor com `nx` elementos todos com valores igual a $0$. (Existe também a função `ones()`). Agora podemos *alterar um pedaço* do vetor em que $c=1$, para obtermos a onda e em seguida imprimir o vetor inicial, somente para verificarmos. \n",
    "\n",
    "Mas quais valores podemos alterar?\n",
    "\n",
    "O problema consiste em verificar quais os indices de `c` a onda quadrada inicia em $x = 0.5$ e termina em $x = 1$.\n",
    "Para isto, utilizamos a função `numpy.where` para retornar uma lista dos indices onde o vetor $x$ encontra (ou não encontra) alguma condição."
   ]
  },
  {
   "cell_type": "markdown",
   "metadata": {},
   "source": [
    "```python\n",
    "c = numpy.zeros(nx)      #numpy function ones()\n",
    "lbound = numpy.where(x >= 0.5)\n",
    "ubound = numpy.where(x <= 1)\n",
    "\n",
    "print(lbound)\n",
    "print(ubound)\n",
    "```"
   ]
  },
  {
   "cell_type": "code",
   "execution_count": 3,
   "metadata": {},
   "outputs": [
    {
     "name": "stdout",
     "output_type": "stream",
     "text": [
      "(array([10, 11, 12, 13, 14, 15, 16, 17, 18, 19, 20, 21, 22, 23, 24, 25, 26,\n",
      "       27, 28, 29, 30, 31, 32, 33, 34, 35, 36, 37, 38, 39, 40]),)\n",
      "(array([ 0,  1,  2,  3,  4,  5,  6,  7,  8,  9, 10, 11, 12, 13, 14, 15, 16,\n",
      "       17, 18, 19, 20]),)\n"
     ]
    }
   ],
   "source": [
    "c = numpy.zeros(nx)      #numpy function ones()\n",
    "lbound = numpy.where(x >= 0.5)\n",
    "ubound = numpy.where(x <= 1)\n",
    "\n",
    "print(lbound)\n",
    "print(ubound)"
   ]
  },
  {
   "cell_type": "markdown",
   "metadata": {},
   "source": [
    "Com isto obtemos dois vetores. `lbound`, que indica os indices para $x \\geq .5$ e 'ubound', que indica os indices para $x \\leq 1$.  Para combinar ambos os vetores, utilizamos uma intersecção entre os vetores com a função `numpy.intersect1d`.  "
   ]
  },
  {
   "cell_type": "code",
   "execution_count": 4,
   "metadata": {},
   "outputs": [
    {
     "name": "stdout",
     "output_type": "stream",
     "text": [
      "[0. 0. 0. 0. 0. 0. 0. 0. 0. 0. 1. 1. 1. 1. 1. 1. 1. 1. 1. 1. 1. 0. 0. 0.\n",
      " 0. 0. 0. 0. 0. 0. 0. 0. 0. 0. 0. 0. 0. 0. 0. 0. 0.]\n"
     ]
    }
   ],
   "source": [
    "bounds = numpy.intersect1d(lbound, ubound)\n",
    "c[bounds]=1  #setting c = 1 between 0.5 and 1 as per our I.C.s\n",
    "print(c)"
   ]
  },
  {
   "cell_type": "markdown",
   "metadata": {},
   "source": [
    "Em Python podemos combinar comandos. Podemos escrever\n",
    "```Python\n",
    "c[numpy.intersect1d(numpy.where(x >= 0.5), numpy.where(x <= 1))] = 1\n",
    "```\n",
    "mas isto dificulta um pouco a leitura do código.\n",
    "\n",
    "Agora vamos verificar as condições iniciais do problema se está tudo OK."
   ]
  },
  {
   "cell_type": "code",
   "execution_count": 5,
   "metadata": {},
   "outputs": [
    {
     "data": {
      "image/png": "[encoded data removed]",
      "text/plain": [
       "<matplotlib.figure.Figure at 0x7f62507b2be0>"
      ]
     },
     "metadata": {},
     "output_type": "display_data"
    }
   ],
   "source": [
    "pyplot.plot(x, c, color='#003366', ls='--', lw=3)\n",
    "pyplot.ylim(0,1.5);"
   ]
  },
  {
   "cell_type": "markdown",
   "metadata": {},
   "source": [
    "### <font color='orange'> Parece muito perto do que esperávamos. Mas parece que os lados da onda quadrada não são perfeitamente verticais. Isso esta certo? Pense um pouco!!!\n",
    "\n",
    "### Forma discreta da equação de convecção linear\n",
    "Agora é hora de escrever algum código para a forma discreta da equação de convecção usando nosso esquema de diferenças finitas escolhido.\n",
    "\n",
    "Para todo elemento da nossa matriz `c`, precisamos realizar a operação:\n",
    "\n",
    "$$c_i^{n+1} = c_i^n - u \\frac{\\Delta t}{\\Delta x}(c_i^n-c_{i-1}^n)$$\n",
    "\n",
    "Vamos armazenar o resultado em uma nova matriz (temporária) `cn`, a qual será a solução $c$ para o próximo passo. Vamos repetir esta operação por tantos passos de tempo como especificamos e então podemos ver o quão longe a onda já percorreu.\n",
    "\n",
    "Então, podemos pensar que temos duas operações iterativas: uma no espaço e uma em tempo (aprenderemos de forma diferente mais tarde), então podemos começar aninhando um loop espacial dentro do ciclo de tempo, como mostrado abaixo. Você vê que o código do esquema de diferenças finitas é uma expressão direta da equação discreta:"
   ]
  },
  {
   "cell_type": "code",
   "execution_count": 6,
   "metadata": {},
   "outputs": [],
   "source": [
    "for n in range(1,nt):  \n",
    "    cn = c.copy() \n",
    "    for i in range(1,nx):\n",
    "        c[i] = cn[i]-u*dt/dx*(cn[i]-cn[i-1])"
   ]
  },
  {
   "cell_type": "markdown",
   "metadata": {},
   "source": [
    "**Observação 1:** Destacamos no código acima que o problema necessita de condição de contorno em $x=0$. Aqui não foi necessário impor esta condição para toda iteração porque a discretização não altera o valor de c[0].\n",
    "\n",
    "**Observação 2:** Aprenderemos mais tarde que o código como escrito acima é bastante ineficiente, e há melhores maneiras de escrever isso, Python-style. Mas vamos continuar.\n",
    "\n",
    "Agora vamos inspecionar nossa matriz de soluções e depois avançar no tempo com um gráfico de linha."
   ]
  },
  {
   "cell_type": "code",
   "execution_count": 7,
   "metadata": {},
   "outputs": [
    {
     "data": {
      "image/png": "[encoded data removed]",
      "text/plain": [
       "<matplotlib.figure.Figure at 0x7f6234e280f0>"
      ]
     },
     "metadata": {},
     "output_type": "display_data"
    }
   ],
   "source": [
    "pyplot.plot(x, c, color='#003366', ls='--', lw=3)\n",
    "pyplot.ylim(0,1.5);"
   ]
  },
  {
   "cell_type": "markdown",
   "metadata": {},
   "source": [
    "###  <font color='orange'> Nossa onda quadrada definitivamente se moveu para a direita, mas já não está na forma de um chapéu alto. **O que está acontecendo?**"
   ]
  },
  {
   "cell_type": "code",
   "execution_count": 8,
   "metadata": {},
   "outputs": [
    {
     "data": {
      "text/html": [
       "<video alt=\"test\" controls><source src=\"data:video/mp4;base64,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\" type=\"video/mp4\" /> </video>"
      ],
      "text/plain": [
       "<IPython.core.display.HTML object>"
      ]
     },
     "execution_count": 8,
     "metadata": {},
     "output_type": "execute_result"
    }
   ],
   "source": [
    "import io\n",
    "import base64\n",
    "from IPython.display import HTML\n",
    "\n",
    "video = io.open('./figuras/wave1.mp4', 'r+b').read()\n",
    "encoded = base64.b64encode(video)\n",
    "HTML(data='''<video alt=\"test\" controls><source src=\"data:video/mp4;base64,{0}\" type=\"video/mp4\" /> </video>'''.format(encoded.decode('ascii')))"
   ]
  },
  {
   "cell_type": "markdown",
   "metadata": {},
   "source": [
    "### Olhar mais profundo\n",
    "\n",
    "A solução difere da onda quadrada esperada porque a equação discretizada é uma aproximação da equação diferencial contínua que queremos resolver. Há erros: nós sabíamos disso. Mas a forma modificada da onda inicial é algo curioso. Talvez possa ser melhorado, tornando o espaçamento da malha mais fino. Por que você não tenta? Isso ajuda?"
   ]
  },
  {
   "cell_type": "markdown",
   "metadata": {},
   "source": [
    "### 2.4 Erro de truncamento espacial\n",
    "\n",
    "Lembrando que a aproximação por diferença finitas para a derivada espacial:\n",
    "\n",
    "\\begin{equation}\\frac{\\partial c}{\\partial x}\\approx \\frac{c(x+\\Delta x)-c(x)}{\\Delta x}\\end{equation}\n",
    "\n",
    "Obtemos usando a definição da derivada em um ponto, e simplesmente removendo o limite, assumindo que $\\Delta x$ é muito pequeno. Mas já aprendemos com o método de Euler que isso apresenta um erro, chamado *erro de truncamento*.\n",
    "\n",
    "Usando uma expansão da série Taylor para os termos espaciais agora, vemos que o esquema de diferença inversa produz um método de primeira ordem, no espaço."
   ]
  },
  {
   "cell_type": "markdown",
   "metadata": {},
   "source": [
    "\\begin{equation}\n",
    "\\frac{\\partial c}{\\partial x}(x_i) = \\frac{c(x_i)-c(x_{i-1})}{\\Delta x} + \\frac{\\Delta x}{2} \\frac{\\partial^2 c}{\\partial x^2}(x_i) - \\frac{\\Delta x^2}{6} \\frac{\\partial^3 c}{\\partial x^3}(x_i)+ \\cdots\n",
    "\\end{equation}\n",
    "\n",
    "O termo dominante que é negligenciado na aproximação das diferenças finitas é de $\\mathcal{O}(\\Delta x)$. Também vemos que a aproximação *converge* para a derivada exata quando $\\Delta x \\rightarrow 0$.\n",
    "\n",
    "Em resumo, o esquema de diferença de *\"forward-time/backward space\"* escolhido é de primeira ordem tanto no espaço quanto no tempo: os erros de truncamento são $\\mathcal{O}(\\Delta t, \\Delta x)$. \n",
    "\n",
    "__Nós vamos voltar para a falar disso!__"
   ]
  },
  {
   "cell_type": "markdown",
   "metadata": {},
   "source": [
    "### 2.5. Convecção não-linear\n",
    "\n",
    "Vamos considerar a equação de convecção não-linear, usando os mesmos métodos de antes. A equação de convecção 1-D é:\n",
    "\n",
    "\\begin{equation}\\frac{\\partial c}{\\partial t} + c \\frac{\\partial c}{\\partial x} = 0\\end{equation}\n",
    "\n",
    "A única diferença com o caso linear é que substituímos a velocidade da onda constante $u$ pela velocidade variável $c$. A equação é não-linear porque agora temos um produto da solução e uma de suas derivadas: o produto $c\\partial c / \\partial x$. Isso muda tudo!\n",
    "\n",
    "Vamos utilizar a mesma discretização que aprendemos para o caso de convecção linear: diferenças adiantadas no tempo e atrasadas no espaço. Aqui temos a equação discretizada:\n",
    "\n",
    "\\begin{equation}\\frac{c_i^{n+1}-c_i^n}{\\Delta t} + c_i^n \\frac{c_i^n-c_{i-1}^n}{\\Delta x} = 0\\end{equation}\n",
    "\n",
    "Resolvendo para o termos $u_i^{n+1}$, temos a seguinte expressão utilizada para avançar no tempo:\n",
    "\n",
    "\\begin{equation}c_i^{n+1} = c_i^n - c_i^n \\frac{\\Delta t}{\\Delta x} (c_i^n - c_{i-1}^n)\\end{equation}\n",
    "\n",
    "Há muito pouco que precisa mudar do código escrito até agora. Na verdade, até usaremos a mesma condição inicial de onda quadrada. Mas vamos reinicializar a variável `c` com os valores iniciais e redigitar os parâmetros numéricos aqui, por conveniência (já não precisamos mais de $u$).\n"
   ]
  },
  {
   "cell_type": "code",
   "execution_count": 9,
   "metadata": {},
   "outputs": [],
   "source": [
    "##problem parameters\n",
    "nx = 41\n",
    "dx = 2/(nx-1)\n",
    "nt = 10    \n",
    "dt = .02  \n",
    "\n",
    "##initial conditions\n",
    "u = numpy.ones(nx)      \n",
    "u[numpy.intersect1d(lbound, ubound)]=2  "
   ]
  },
  {
   "cell_type": "markdown",
   "metadata": {},
   "source": [
    "How does it look?"
   ]
  },
  {
   "cell_type": "code",
   "execution_count": 10,
   "metadata": {},
   "outputs": [
    {
     "data": {
      "image/png": "[encoded data removed]",
      "text/plain": [
       "<matplotlib.figure.Figure at 0x7f6234d38828>"
      ]
     },
     "metadata": {},
     "output_type": "display_data"
    }
   ],
   "source": [
    "pyplot.plot(x, u, color='#003366', ls='--', lw=3)\n",
    "pyplot.ylim(0,2.5);"
   ]
  },
  {
   "cell_type": "markdown",
   "metadata": {},
   "source": [
    "Alterando apenas uma linha de código na solução de convecção linear, podemos agora obter a solução não-linear: a linha que corresponde à equação discreta agora tem `cn[i]` no lugar onde antes tínhamos apenas `u`. Então você poderia escrever algo como:\n",
    "```Python\n",
    "for n in range(1,nt):  \n",
    "  un = u.copy() \n",
    "  for i in range(1,nx): \n",
    "    u[i] = un[i]-un[i]*dt/dx*(un[i]-un[i-1]) \n",
    "```\n",
    "Nós vamos ser mais espertos do que isso e usar o NumPy para atualizar todos os valores da grade espacial de uma só vez. Nós realmente não precisamos escrever uma linha de código que seja executada *para cada* valor de $c$ na grade espacial. O Python pode atualizá-los todos de uma vez! Estude o código abaixo e compare-o com o código acima. Aqui está um esboço útil, para ilustrar a operação da matriz - também chamada de operação \"vetorizada\" - por $c_i-c_{i-1} $."
   ]
  },
  {
   "cell_type": "markdown",
   "metadata": {},
   "source": [
    "![vectorizedstencil](figuras/vectorizedstencil.png)\n",
    "<br>\n",
    "#### <center>Figura 2: Esboço para explicar a operação de estêncil vetorizado..  Adapitado de [\"Indices point between elements\"](https://blog.nelhage.com/2015/08/indices-point-between-elements/) by Nelson Elhage.  "
   ]
  },
  {
   "cell_type": "code",
   "execution_count": 11,
   "metadata": {},
   "outputs": [],
   "source": [
    "for n in range(1, nt):  \n",
    "    un = u.copy() \n",
    "    u[1:] = un[1:]-un[1:]*dt/dx*(un[1:]-un[0:-1])"
   ]
  },
  {
   "cell_type": "code",
   "execution_count": 12,
   "metadata": {},
   "outputs": [
    {
     "data": {
      "image/png": "[encoded data removed]",
      "text/plain": [
       "<matplotlib.figure.Figure at 0x7f6234d20c50>"
      ]
     },
     "metadata": {},
     "output_type": "display_data"
    }
   ],
   "source": [
    "pyplot.plot(x, u, color='#003366', ls='--', lw=3)\n",
    "pyplot.ylim(0,2.5);"
   ]
  },
  {
   "cell_type": "markdown",
   "metadata": {},
   "source": [
    "Hmm. Isso é bem interessante: como no caso linear, vemos que perdemos os lados afiados da nossa onda quadrada inicial, mas há mais. Agora, a onda também perdeu simetria! Parece estar ficando para trás, enquanto a frente da onda está se inclinando. Essa é outra forma de erro numérico, você pode se perguntar? Não! É física!\n",
    "\n",
    "##### Pense um pouco!!!\n",
    "Pense no efeito de ter substituído a velocidade de onda constante $u$ pela velocidade variável dada pela solução $c$. Isso significa que diferentes partes da onda se movem em velocidades diferentes. Faça um esboço de uma onda inicial e pense em onde a velocidade é mais alta e onde ela é mais baixa ..."
   ]
  },
  {
   "cell_type": "markdown",
   "metadata": {},
   "source": [
    "## Exercício:\n",
    "\n",
    "Com os parâmetros de solução que inicialmente sugerimos, a malha espacial teve 41 pontos e o *timestep* (passo de tempo) foi de 0,025. Agora, vamos alterar o número de pontos na malha. Escreva o código corresponde ao caso de convecção linear como uma função para que possamos examinar facilmente o que acontece quando ajustamos apenas uma variável: o tamanho da malha. Teste com  *nx=*41; 61; 71; e 85. Veja o que acontece."
   ]
  },
  {
   "cell_type": "code",
   "execution_count": 13,
   "metadata": {},
   "outputs": [],
   "source": [
    "import numpy                       \n",
    "from matplotlib import pyplot    \n",
    "%matplotlib inline\n",
    "from matplotlib import rcParams\n",
    "rcParams['font.family'] = 'serif'\n",
    "rcParams['font.size'] = 16"
   ]
  },
  {
   "cell_type": "code",
   "execution_count": 14,
   "metadata": {},
   "outputs": [],
   "source": [
    "def linearconv(nx):\n",
    "    \"\"\"Solve the linear convection equation.\n",
    "    \n",
    "    Solves the equation d_t c + u d_x c = 0 where \n",
    "    * the wavespeed u is set to 1\n",
    "    * the domain is x \\in [0, 5]\n",
    "    * 20 timesteps are taken, with \\Delta t = 0.025\n",
    "    * the initial data is the hat function\n",
    "    \n",
    "    Produces a plot of the results\n",
    "    \n",
    "    Parameters\n",
    "    ----------\n",
    "    \n",
    "    nx : integer\n",
    "        number of internal grid points\n",
    "        \n",
    "    Returns\n",
    "    -------\n",
    "    \n",
    "    None : none\n",
    "    \"\"\"\n",
    "    dx = 2/(nx-1)\n",
    "    nt = 25    \n",
    "    dt = .025  \n",
    "    u = 1\n",
    "    \n",
    "    x = numpy.linspace(0,2,nx)\n",
    "\n",
    "    c = numpy.zeros(nx)\n",
    "    lbound = numpy.where(x >= 0.5)\n",
    "    ubound = numpy.where(x <= 1)\n",
    "    c[numpy.intersect1d(lbound, ubound)]=1  \n",
    "\n",
    "    cn = numpy.zeros(nx) \n",
    "\n",
    "    for n in range(nt): \n",
    "        cn = c.copy() \n",
    "        c[1:] = cn[1:] -u*dt/dx*(cn[1:] -cn[0:-1]) \n",
    "        c[0] = 0.0\n",
    "        \n",
    "\n",
    "    pyplot.plot(x, c, color='#003366', ls='--', lw=3)\n",
    "    pyplot.ylim(-0.5,1.5);  "
   ]
  },
  {
   "cell_type": "markdown",
   "metadata": {},
   "source": [
    "### Vamos calcular!!"
   ]
  },
  {
   "cell_type": "code",
   "execution_count": 15,
   "metadata": {},
   "outputs": [
    {
     "data": {
      "image/png": "[encoded data removed]",
      "text/plain": [
       "<matplotlib.figure.Figure at 0x7f623442eba8>"
      ]
     },
     "metadata": {},
     "output_type": "display_data"
    }
   ],
   "source": [
    "linearconv(41) #convection using 60 grid points"
   ]
  },
  {
   "cell_type": "code",
   "execution_count": 16,
   "metadata": {},
   "outputs": [
    {
     "data": {
      "image/png": "[encoded data removed]",
      "text/plain": [
       "<matplotlib.figure.Figure at 0x7f6234486240>"
      ]
     },
     "metadata": {},
     "output_type": "display_data"
    }
   ],
   "source": [
    "linearconv(61) #convection using 75 grid points"
   ]
  },
  {
   "cell_type": "code",
   "execution_count": 17,
   "metadata": {},
   "outputs": [
    {
     "data": {
      "image/png": "[encoded data removed]",
      "text/plain": [
       "<matplotlib.figure.Figure at 0x7f6234415048>"
      ]
     },
     "metadata": {},
     "output_type": "display_data"
    }
   ],
   "source": [
    "linearconv(71) #convection using 80 grid points"
   ]
  },
  {
   "cell_type": "code",
   "execution_count": 18,
   "metadata": {},
   "outputs": [
    {
     "data": {
      "image/png": "[encoded data removed]",
      "text/plain": [
       "<matplotlib.figure.Figure at 0x7f62343caef0>"
      ]
     },
     "metadata": {},
     "output_type": "display_data"
    }
   ],
   "source": [
    "linearconv(85) #convection using 81 grid points"
   ]
  },
  {
   "cell_type": "markdown",
   "metadata": {},
   "source": [
    "### O que aconteceu??"
   ]
  },
  {
   "cell_type": "markdown",
   "metadata": {
    "collapsed": true
   },
   "source": [
    "### <font color='red'> Vamos ver em mais detalhes!"
   ]
  },
  {
   "cell_type": "code",
   "execution_count": 19,
   "metadata": {},
   "outputs": [
    {
     "data": {
      "text/html": [
       "<style>\n",
       "@import url(http://fonts.googleapis.com/css?family=Lato|Source+Code+Pro|Montserrat:400,700);\n",
       "body {\n",
       "font-family: 'Lato', sans-serif !important;\n",
       "font-size: 1.25em !important;\n",
       "line-height: 30px !important;\n",
       "font-weight: 400 !important;\n",
       "color: #000000 !important;\n",
       "}\n",
       "#notebook-container {\n",
       "-webkit-box-shadow: none;\n",
       "box-shadow: none;\n",
       "}\n",
       ".rendered_html h1 { font-size: 4rem !important;  }\n",
       ".rendered_html h2 { font-size: 3rem !important; }\n",
       ".rendered_html h3 { font-size: 2.5rem !important; }\n",
       ".rendered_html h4 { font-size: 2rem !important; }\n",
       ".rendered_html h5 { font-size: 1.5rem !important; }\n",
       ".rendered_html h6 { font-size: 1.5rem !important; }\n",
       ".rendered_html h1, \n",
       ".rendered_html h2, \n",
       ".rendered_html h3, \n",
       ".rendered_html h4,\n",
       ".rendered_html h5, \n",
       ".rendered_html h6 {\n",
       "font-family: 'Montserrat', sans-serif !important;\n",
       "font-weight: 300 !important;\n",
       "line-height: 1.5em !important;\n",
       "color: rgb(0,51,102) !important;\n",
       "}\n",
       "h1 { font-size: 4.5rem !important; }\n",
       "h2 { font-size: 4rem !important; }\n",
       "h3 { font-size: 3.5rem !important; }\n",
       "h4 { font-size: 3rem !important; }\n",
       "h5 { font-size: 2.5rem !important; }\n",
       "h6 { font-size: 1.5rem !important; }\n",
       "h1, h2, h3, h4, h5, h6 {\n",
       "font-family: 'Montserrat', sans-serif !important;\n",
       "color: #e6ae48 !important;\n",
       "line-height: 150px !important;\n",
       "}\n",
       "p {\n",
       "font-family: 'Lato', sans-serif !important;\n",
       "font-size: 1.25em !important;\n",
       "line-height: 30px !important;\n",
       "font-weight: 400 !important;\n",
       "color: #000000 !important;\n",
       "}\n",
       "li {\n",
       "font-family: 'Lato', sans-serif !important;\n",
       "font-size: 1.25em !important;\n",
       "line-height: 30px !important;\n",
       "font-weight: 400 !important;\n",
       "color: #000000 !important;\n",
       "}\n",
       "code {\n",
       "font-family: 'Source Code Pro', sans-serif !important;\n",
       "font-size: 1em !important;\n",
       "}\n",
       "pre {\n",
       "font-family: 'Source Code Pro', sans-serif !important;\n",
       "font-size: 1em !important;\n",
       "}\n",
       "div.input_area {\n",
       "border: none !important;\n",
       "background: whitesmoke !important;\n",
       "}\n",
       ".alert-box {\n",
       "    padding:10px 10px 10px 36px;\n",
       "    margin:5px;\n",
       "}\n",
       "\n",
       "<style>\n",
       "<script>\n",
       "    MathJax.Hub.Config({\n",
       "                        TeX: {\n",
       "                           extensions: [\"AMSmath.js\"],\n",
       "                           equationNumbers: { autoNumber: \"AMS\", useLabelIds: true}\n",
       "                           },\n",
       "                tex2jax: {\n",
       "                    inlineMath: [ ['$','$'], [\"\\\\(\",\"\\\\)\"] ],\n",
       "                    displayMath: [ ['$$','$$'], [\"\\\\[\",\"\\\\]\"] ]\n",
       "                },\n",
       "                displayAlign: 'center', // Change this to 'center' to center equations.\n",
       "                \"HTML-CSS\": {\n",
       "                    styles: {'.MathJax_Display': {\"margin\": 4}}\n",
       "                }\n",
       "        });\n",
       "</script>\n",
       "\n",
       "\n"
      ],
      "text/plain": [
       "<IPython.core.display.HTML object>"
      ]
     },
     "execution_count": 19,
     "metadata": {},
     "output_type": "execute_result"
    }
   ],
   "source": [
    "from IPython.core.display import HTML\n",
    "css_file = '../styles/custom.css'\n",
    "HTML(open(css_file, \"r\").read())"
   ]
  }
 ],
 "metadata": {
  "kernelspec": {
   "display_name": "Python 3",
   "language": "python",
   "name": "python3"
  },
  "language_info": {
   "codemirror_mode": {
    "name": "ipython",
    "version": 3
   },
   "file_extension": ".py",
   "mimetype": "text/x-python",
   "name": "python",
   "nbconvert_exporter": "python",
   "pygments_lexer": "ipython3",
   "version": "3.6.4"
  }
 },
 "nbformat": 4,
 "nbformat_minor": 2
}
