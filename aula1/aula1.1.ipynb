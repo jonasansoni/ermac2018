{
 "cells": [
  {
   "cell_type": "markdown",
   "metadata": {},
   "source": [
    "###### Material desenvolvido para o minicurso: Introdução à solução numérica de EDP's, ministrado no ERMAC/2018 de 5 a 6 de abril de 2018 na Universidade Federal de Lavras, Lavras/MG, Brasil. Autor: [Jonas Laerte Ansoni](http://jonasansoni.blogspot.com.br/)."
   ]
  },
  {
   "cell_type": "markdown",
   "metadata": {},
   "source": [
    "<img src=\"./figuras/logoemarc.png\" width=\"30%\">"
   ]
  },
  {
   "cell_type": "markdown",
   "metadata": {},
   "source": [
    "# <center> Minicurso:<font color='blue'> Introdução à solução numérica de EDP's"
   ]
  },
  {
   "cell_type": "markdown",
   "metadata": {},
   "source": [
    "## 1. Motivação"
   ]
  },
  {
   "cell_type": "markdown",
   "metadata": {},
   "source": [
    "### 1.1. Problemas de interesse\n",
    "\n",
    "A matemática tem um papel importante na relação entre o homem e natureza, pois através dessa ciência o homem consegue descrever o comportamento de alguns sistemas ou fenômenos da vida real em termos matemáticos. \n",
    "\n",
    "Ex.: economia, engenharias em geral, ciências biológicas, etc...\n",
    "\n",
    "A maioria dessas formulações matemáticas para esses fenômenos conduzem a taxas de variação de duas ou mais variáveis independentes, como por exemplo: tempo, comprimento, temperatura, velocidade, etc...\n",
    "\n",
    "Assim, a maioria dessas formulações conduzem à equações diferenciais parciais (EDP's). "
   ]
  },
  {
   "cell_type": "markdown",
   "metadata": {},
   "source": [
    "<img src=\"./figuras/airplane.gif\" width=\"40%\"> <img src=\"./figuras/bola.gif\" width=\"40%\"> <img src=\"./figuras/rain.gif\" width=\"40%\"> <img src=\"./figuras/bloodflow.gif\" width=\"40%\"> \n",
    "##### <center> Exemplos de problemas de interesse."
   ]
  },
  {
   "cell_type": "markdown",
   "metadata": {},
   "source": [
    "#### <span class=\"badge badge-pill badge-warning\">_Pergunta:_</span> <font color='Orange'> Como podemos obter a solução de problemas modelados por essas equações??</font>\n",
    "    \n",
    "#### <span class=\"badge badge-pill badge-success\">Resposta:</span> Fundamentalmente existem três abordagens que podem ser utilizadas independentemente ou conjuntamente: Experimental, analítica e computacional."
   ]
  },
  {
   "cell_type": "markdown",
   "metadata": {},
   "source": [
    "<img src=\"./figuras/fluxograma1.bmp\" width=\"70%\">"
   ]
  },
  {
   "cell_type": "markdown",
   "metadata": {},
   "source": [
    "* **Abordagem experimental:** Um modelo físico é construído de forma a possibilitar os estudos e análises de medição dos parâmetros determinantes do problema. Apresentam a capacidade de produzir as mais realísticas respostas, no entanto, seu custo é elevado, problemas de escala, custo operacional e muitas vezes é difícil a medição dos parâmetros desejados.\n",
    "\n",
    "\n",
    "* **Abordagem analítica:** Utiliza técnicas matemáticas disponíveis para apresentar uma solução para o problema, mas na maioria dos casos isso não é possível devido a limitações nas técnicas disponíveis. As dificudades surgem devido por exemplo: complexidade da região, coeficientes da equação diferencial podem variar ponto a ponto e até mesmo depender da própria solução (problemas não-lineares).\n",
    "\n",
    "\n",
    "* **Abordagem numérica:** Tem atuado como uma importante ferramenta na ausência de soluções analíticas. Não há restrição à linearidade, podem ser aplicados a geometrias e processos complicados e apresentam evolução temporal. No entanto, simplificações são realizadas, de modo a proporcionar a elaboração de um modelo computacional consistente a ser resolvido através de métodos numéricos. Atenção à erros de truncamento, prescrição das condições de fronteira apropriadas e aos custos computacionais."
   ]
  },
  {
   "cell_type": "markdown",
   "metadata": {},
   "source": [
    "  <font color='red'> __Observação:__ <font> O uso de técnicas numéricas não implica que as análises experimentais e teóricas estejam sendo postas de lado. É muito comum as três técnicas se complementarem durante o desenvolvimento de um projeto. Como exemplo para o caso de escoamento de fluidos é muito comum o uso das abordagens experimentais e numéricas com o intuíto de aperfeiçoar os modelos teóricos de algum fenômeno. \n",
    "\n",
    "\n",
    "<img src=\"./figuras/fluxograma2.bmp\" width=\"50%\">\n",
    "\n",
    "A idéia central dos métodos computacionais para a resolução de EDP's é a discretização do contínuo que torna finito o problema, viabilizando assim, a sua solução através de computadores. A aplicabilidade de cada algoritmo depende da situação tratada, sendo importante que o usuário conheça tanto os aspectos físicos do problema como os aspectos numéricos da metodologia adotada. "
   ]
  },
  {
   "cell_type": "markdown",
   "metadata": {},
   "source": [
    "### 1.2. Métodos numéricos para solução de EDP's\n",
    "\n",
    "Podemos dizer que a tarefa de um método numérico é resolver uma ou mais equações diferenciais, onde as derivadas existentes na equação são substituidas por expressões algébricas que envolvem a função incógnita.\n",
    "\n",
    "<img src=\"./figuras/fluxograma3.bmp\" width=\"50%\">\n",
    "\n",
    "Entre os vários métodos numéricos que evoluíram ao longo dos anos, as técnicas mais utilizadas são:\n",
    "\n",
    "**Diferenças finitas**\n",
    "\n",
    "**Elementos finitos**\n",
    "\n",
    "**Volumes finitos**\n",
    "\n",
    "<div class=\"alert alert-warning\" role=\"alert\">\n",
    " <p>**Nota:** Neste minicurso será abordado de maneira __introdutória__ o método das diferenças finitas em problemas de dinâmica dos fluidos.</p>\n",
    "</div>\n",
    "\n",
    "\"A **Dinâmica dos Fluidos Computacional _(Computational Fluid Dynamics - CFD)_** é a área da computação científica que estuda métodos computacionais para simulação de fenômenos que envolvem fluidos em movimento com ou sem trocas de calor\" (Fortuna, 2000).\n",
    "\n",
    "Muitos desses problemas de dinâmica dos fluidos envolvem quantidades que se conservam e que levam a certos tipos de EDP's denominadas **leis de conservação**. (Equações de Navier-Stokes - Fortuna página 245)\n",
    "\n",
    "<img src=\"./figuras/fluidFlow.gif\" width=\"40%\"> <img src=\"./figuras/reactor.gif\" width=\"15%\"> "
   ]
  },
  {
   "cell_type": "markdown",
   "metadata": {},
   "source": [
    "  Outros médotos numéricos para solução de EDP's:   \n",
    "  * CVFEM (_Control Volume Finite Element Method_)\n",
    "  * BEM (Boundary Element Method)\n",
    "  * Spectral Method..."
   ]
  },
  {
   "cell_type": "markdown",
   "metadata": {},
   "source": [
    "#### Equações de Navier-Stokes\n",
    "\n",
    "As equações de Navier-Stokes modelam os escoamento de fluidos compressíveis e incompressíveis, turbulentos e laminares. Representam a expressão matemática de princípios físicos muito familiares:\n",
    "\n",
    "1. [Conservação de massa](https://en.wikipedia.org/wiki/Conservation_of_mass).\n",
    "2. Conservação de momento (Segunda lei de Newton).\n",
    "3. Conservação de energia (Primeira lei da Termodinâmica).\n",
    "\n",
    "As equações de Navier-Stokes podem ser escritas de muitos modos dependendo das propriedades do fluido e do escoamento. \n",
    "\n",
    "Exemplo: Em coordenadas cartesianas bidimensionais, escoamento laminar, incompressíveis e isotérmicos\n",
    "\n",
    "\\begin{equation}\n",
    "\\frac{\\partial u}{\\partial x}+\\frac{\\partial v}{\\partial y}=0 \\\\\n",
    "\\frac{\\partial u}{\\partial t}+\\frac{\\partial u^2}{\\partial x}+\\frac{\\partial (uv)}{\\partial y}=-\\frac{1}{\\rho}\\frac{\\partial p}{\\partial x}+\\nu\\left(\\frac{\\partial^2 u}{\\partial x^2}+\\frac{\\partial^2 u}{\\partial y^2}\\right) \\\\\n",
    "\\frac{\\partial v}{\\partial t}+\\frac{\\partial v^2}{\\partial y}+\\frac{\\partial (uv)}{\\partial x}=-\\frac{1}{\\rho}\\frac{\\partial p}{\\partial y}+\\nu\\left(\\frac{\\partial^2 v}{\\partial x^2}+\\frac{\\partial^2 v}{\\partial y^2}\\right)\n",
    "\\end{equation}\n",
    "\n",
    "onde $u$ e $v$ são as velocidades nas direções $x$ e $y$, respectivamente. Densidade do fluido $\\rho$, viscosidade cinemática $\\nu$, pressão $p$. \n",
    "\n",
    "Primeira equação conhecida como __equação da continuidade__. Segunda e terceira equações são as __equações de momento__ para as direções $x$ e $y$."
   ]
  },
  {
   "cell_type": "markdown",
   "metadata": {},
   "source": [
    "### 1.3. Etapas para a obtenção da solução numérica de um problema de fluidos\n",
    "\n",
    "<img src=\"./figuras/fluxograma4.bmp\" width=\"100%\">\n"
   ]
  },
  {
   "cell_type": "markdown",
   "metadata": {},
   "source": [
    "### 1.4. Equações diferenciais parciais\n",
    "\n",
    "Conforme já discutido, a simulação de um escoamento via técnicas de CFD envolve obter as soluções numéricas para as equações diferencias paraciais que modelam o problema físico. Para podermos aplicar técnicas computacionais a esses problemas é importante primeiro identificar as características gerais de suas equações. \n",
    "\n",
    "As EDP's que descrevem os fenômenos de interesse da dinâmica dos fuidos computacinal podem ser classificadas em três categorias básicas:\n",
    "\n",
    "1. Elípticas\n",
    "2. Parabólicas\n",
    "3. Hiperbólicas"
   ]
  },
  {
   "cell_type": "markdown",
   "metadata": {},
   "source": [
    "<img src=\"./figuras/fluxograma5.bmp\" width=\"95%\">"
   ]
  },
  {
   "cell_type": "markdown",
   "metadata": {
    "collapsed": true
   },
   "source": [
    "## <font color='blue'> Vamos inicar os exemplos!!"
   ]
  },
  {
   "cell_type": "code",
   "execution_count": 1,
   "metadata": {},
   "outputs": [
    {
     "data": {
      "text/html": [
       "<style>\n",
       "@import url(http://fonts.googleapis.com/css?family=Lato|Source+Code+Pro|Montserrat:400,700);\n",
       "body {\n",
       "font-family: 'Lato', sans-serif !important;\n",
       "font-size: 1.25em !important;\n",
       "line-height: 30px !important;\n",
       "font-weight: 400 !important;\n",
       "color: #000000 !important;\n",
       "}\n",
       "#notebook-container {\n",
       "-webkit-box-shadow: none;\n",
       "box-shadow: none;\n",
       "}\n",
       ".rendered_html h1 { font-size: 4rem !important;  }\n",
       ".rendered_html h2 { font-size: 3rem !important; }\n",
       ".rendered_html h3 { font-size: 2.5rem !important; }\n",
       ".rendered_html h4 { font-size: 2rem !important; }\n",
       ".rendered_html h5 { font-size: 1.5rem !important; }\n",
       ".rendered_html h6 { font-size: 1.5rem !important; }\n",
       ".rendered_html h1, \n",
       ".rendered_html h2, \n",
       ".rendered_html h3, \n",
       ".rendered_html h4,\n",
       ".rendered_html h5, \n",
       ".rendered_html h6 {\n",
       "font-family: 'Montserrat', sans-serif !important;\n",
       "font-weight: 300 !important;\n",
       "line-height: 1.5em !important;\n",
       "color: rgb(0,51,102) !important;\n",
       "}\n",
       "h1 { font-size: 4.5rem !important; }\n",
       "h2 { font-size: 4rem !important; }\n",
       "h3 { font-size: 3.5rem !important; }\n",
       "h4 { font-size: 3rem !important; }\n",
       "h5 { font-size: 2.5rem !important; }\n",
       "h6 { font-size: 1.5rem !important; }\n",
       "h1, h2, h3, h4, h5, h6 {\n",
       "font-family: 'Montserrat', sans-serif !important;\n",
       "color: #e6ae48 !important;\n",
       "line-height: 150px !important;\n",
       "}\n",
       "p {\n",
       "font-family: 'Lato', sans-serif !important;\n",
       "font-size: 1.25em !important;\n",
       "line-height: 30px !important;\n",
       "font-weight: 400 !important;\n",
       "color: #000000 !important;\n",
       "}\n",
       "li {\n",
       "font-family: 'Lato', sans-serif !important;\n",
       "font-size: 1.25em !important;\n",
       "line-height: 30px !important;\n",
       "font-weight: 400 !important;\n",
       "color: #000000 !important;\n",
       "}\n",
       "code {\n",
       "font-family: 'Source Code Pro', sans-serif !important;\n",
       "font-size: 1em !important;\n",
       "}\n",
       "pre {\n",
       "font-family: 'Source Code Pro', sans-serif !important;\n",
       "font-size: 1em !important;\n",
       "}\n",
       "div.input_area {\n",
       "border: none !important;\n",
       "background: whitesmoke !important;\n",
       "}\n",
       ".alert-box {\n",
       "    padding:10px 10px 10px 36px;\n",
       "    margin:5px;\n",
       "}\n",
       "\n",
       "<style>\n",
       "<script>\n",
       "    MathJax.Hub.Config({\n",
       "                        TeX: {\n",
       "                           extensions: [\"AMSmath.js\"],\n",
       "                           equationNumbers: { autoNumber: \"AMS\", useLabelIds: true}\n",
       "                           },\n",
       "                tex2jax: {\n",
       "                    inlineMath: [ ['$','$'], [\"\\\\(\",\"\\\\)\"] ],\n",
       "                    displayMath: [ ['$$','$$'], [\"\\\\[\",\"\\\\]\"] ]\n",
       "                },\n",
       "                displayAlign: 'center', // Change this to 'center' to center equations.\n",
       "                \"HTML-CSS\": {\n",
       "                    styles: {'.MathJax_Display': {\"margin\": 4}}\n",
       "                }\n",
       "        });\n",
       "</script>\n"
      ],
      "text/plain": [
       "<IPython.core.display.HTML object>"
      ]
     },
     "execution_count": 1,
     "metadata": {},
     "output_type": "execute_result"
    }
   ],
   "source": [
    "from IPython.core.display import HTML\n",
    "css_file = '../styles/custom.css'\n",
    "HTML(open(css_file, \"r\").read())"
   ]
  }
 ],
 "metadata": {
  "kernelspec": {
   "display_name": "Python 3",
   "language": "python",
   "name": "python3"
  },
  "language_info": {
   "codemirror_mode": {
    "name": "ipython",
    "version": 3
   },
   "file_extension": ".py",
   "mimetype": "text/x-python",
   "name": "python",
   "nbconvert_exporter": "python",
   "pygments_lexer": "ipython3",
   "version": "3.6.4"
  }
 },
 "nbformat": 4,
 "nbformat_minor": 2
}
