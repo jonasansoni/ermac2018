{
 "cells": [
  {
   "cell_type": "markdown",
   "metadata": {
    "slideshow": {
     "slide_type": "slide"
    }
   },
   "source": [
    "###### Material desenvolvido para o minicurso: Introdução à solução numérica de EDP's, ministrado no ERMAC/2018 de 5 a 6 de abril de 2018 na Universidade Federal de Lavras, Lavras/MG, Brasil. Autor: [Jonas Laerte Ansoni](http://jonasansoni.blogspot.com.br/).\n",
    "\n",
    "<img src=\"./figuras/logoemarc.png\" width=\"30%\">\n",
    "\n",
    "# <center> Minicurso:<font color='blue'> Introdução à solução numérica de EDP's\n",
    "    \n",
    "### Ministrante: Jonas Laerte Ansoni\n",
    "\n",
    "_____________________________________________________________________________________________________________________"
   ]
  },
  {
   "cell_type": "markdown",
   "metadata": {},
   "source": [
    "## Download material\n",
    "\n",
    "## https://github.com/jonasansoni/ermac2018 "
   ]
  },
  {
   "cell_type": "markdown",
   "metadata": {
    "slideshow": {
     "slide_type": "slide"
    }
   },
   "source": [
    "### Objetivo\n",
    "\n",
    "* Este minicurso tem a instenção de realizar uma apresentação **rápida** do método de diferenças finitas para a discretização de EDPs, por meio da resolução numérica de equações modelo 1D e exemplos de simulações numéricas de EDPs. \n"
   ]
  },
  {
   "cell_type": "markdown",
   "metadata": {
    "slideshow": {
     "slide_type": "subslide"
    }
   },
   "source": [
    "### Material e metodologia\n",
    "\n",
    "* Este minicurso fará uso da ferramenta [Jupyter Notebooks](https://jupyter-notebook.readthedocs.org/en/latest/notebook.html) (IPython Notebooks)que são páginas visíveis em um browser (ex.: Firefox, Chrome, etc) possibilitando misturar texto, código executável em Python, gráficos, figuras etc. Este tipo de página é um recurso que permite o estudo interativo, onde o aluno pode alterar e executar o código na própria máquina e já observar o resultado em tempo real.\n",
    "\n"
   ]
  },
  {
   "cell_type": "markdown",
   "metadata": {
    "slideshow": {
     "slide_type": "subslide"
    }
   },
   "source": [
    "* O que inspirou a utilização desta metodologia foi o curso apresentado pela Prof. Lorena Barba (George Washington University, USA) [Practical Numerical Methods with Python](https://github.com/numerical-mooc/numerical-mooc)."
   ]
  },
  {
   "cell_type": "markdown",
   "metadata": {
    "slideshow": {
     "slide_type": "slide"
    }
   },
   "source": [
    "### Estrutura do minicurso\n",
    "\n",
    "__Dia 1:__\n",
    "    0. Instalação e utilização do Jupyter\n",
    "    1. Motivação\n",
    "        1.1. Problemas de interesse\n",
    "        1.2. Métodos numéricos para solução de EDP's\n",
    "        1.3. Etapas para a obtenção da solução numérica de um problema de fluidos\n",
    "        1.4. Equações diferenciais parciais\n",
    "    2. Modelo de dispersão de poluentes\n",
    "        2.1. Equação do transporte\n",
    "        2.2. Métodos das diferenças finitas\n",
    "        2.3. Discretizando nossa equação modelo: Equação hiperbólica\n",
    "        2.4. Erro de truncamento espacial\n",
    "        2.5. Convecção não-linear\n",
    "        2.6 Estabilidade e condição CFL "
   ]
  },
  {
   "cell_type": "markdown",
   "metadata": {
    "slideshow": {
     "slide_type": "subslide"
    }
   },
   "source": [
    "__Dia 2:__\n",
    "    3. Difusão\n",
    "        3.1. Discretizando a equação de difusão unidimensional: Equação parabólica\n",
    "        3.2. Equação transiente de difusão de calor    \n",
    "            3.2.1 Condições de contorno\n",
    "            3.2.2 Esquemas explícitos e condições de contorno\n",
    "    4. Equação elíptica\n",
    "        4.1. Equação de Poisson\n",
    "        4.2. Equação de Laplce\n",
    "            4.2.1 Equação de calor em estado estacionário\n",
    "            4.2.1 Resolução dos sistema de equações"
   ]
  },
  {
   "cell_type": "markdown",
   "metadata": {
    "slideshow": {
     "slide_type": "slide"
    }
   },
   "source": [
    "# 0. Instalação e utilização do Jupyter\n",
    "\n",
    "<img src=\"./figuras/jupyter.png\" width=\"25%\">\n",
    "\n",
    "A melhor maneira de entender os _notebooks_ é experimentá-los, então vamos começar!\n",
    "\n",
    "Este guia é para ajudar você a colocar o Jupyter notebook em funcionamento no seu computador pessoal.\n"
   ]
  },
  {
   "cell_type": "markdown",
   "metadata": {
    "slideshow": {
     "slide_type": "slide"
    }
   },
   "source": [
    "## 0.1. Instalando o Anaconda\n",
    "\n",
    "Existem várias maneiras de instalar o Python e o Jupyter e todas as bibliotecas necessárias para concluir este minicurso. Você é bem-vindo para experimentar qualquer um deles, mas nós **fortemente** sugerimos usar o [Anaconda Python Distribution](https://www.anaconda.com/download/#linux). Ele está atualizado (ao contrário das versões do Python que podem existir em sua máquina Linux ou OSX) e também vem com o `conda`. Nós vamos chegar ao `conda` um pouco mais tarde, mas acredite, é incrível e você quer tê-lo."
   ]
  },
  {
   "cell_type": "markdown",
   "metadata": {
    "slideshow": {
     "slide_type": "subslide"
    }
   },
   "source": [
    "### 0.1.1 Download do instalador\n",
    "\n",
    "Premeiro realize o download do Anaconda instalador no https://www.anaconda.com/download/#linux de acordo com o seu sistema operacional.  \n",
    "\n",
    "<div class=\"alert alert-danger\" role=\"alert\">\n",
    "  **Escolha o Python 3.6.**\n",
    "</div>"
   ]
  },
  {
   "cell_type": "markdown",
   "metadata": {
    "slideshow": {
     "slide_type": "subslide"
    }
   },
   "source": [
    "### 0.1.2 Execute o instalador\n",
    "\n",
    "Siga as instruções apropriadas para o seu sistema operacional conforme apresentado no [Anaconda Install Page](https://docs.anaconda.com/anaconda/install)."
   ]
  },
  {
   "cell_type": "markdown",
   "metadata": {
    "slideshow": {
     "slide_type": "slide"
    }
   },
   "source": [
    "## 0.2. Teste sua instalação\n",
    "\n",
    "### 0.2.1 Inciando o _notebook server_\n",
    "\n",
    "Abra o terminal e execute\n",
    "\n",
    "```Bash\n",
    "jupyter notebook\n",
    "```\n",
    "Isto irá iniciar o notebook server. Isto * deve * abrir automaticamente a página principal do servidor do notebook no seu navegador padrão, mas se isso não acontecer, basta abrir o navegador de sua escolha e digitar\n",
    "\n",
    "```\n",
    "http://localhost:8888/tree\n",
    "```\n",
    "\n",
    "na barra de endereço.\n",
    "\n",
    "Isso trará um navegador de arquivos simples que mostrará o conteúdo do diretório de onde você iniciou o terminal.  Click em `New Notebook` e então selecione **Python 3** para criar o seu primeiro jupyter notebook."
   ]
  },
  {
   "cell_type": "markdown",
   "metadata": {
    "slideshow": {
     "slide_type": "subslide"
    }
   },
   "source": [
    "![newnotebook](./figuras/newnotebook.gif)"
   ]
  },
  {
   "cell_type": "markdown",
   "metadata": {
    "slideshow": {
     "slide_type": "slide"
    }
   },
   "source": [
    "## 0.3. Algumas explicações rápidas.... vamos lá!!"
   ]
  },
  {
   "cell_type": "markdown",
   "metadata": {
    "slideshow": {
     "slide_type": "slide"
    }
   },
   "source": [
    "## 0.4. Material de apoio Jupyter notebook\n",
    "\n",
    "Se você se interessou, um vasto material de apoio pode ser encotrado. **Google it**\n",
    "\n",
    "Algumas sugestões são:\n",
    "\n",
    "https://jupyter-notebook.readthedocs.io/en/latest/notebook.html"
   ]
  },
  {
   "cell_type": "code",
   "execution_count": 1,
   "metadata": {
    "slideshow": {
     "slide_type": "subslide"
    }
   },
   "outputs": [
    {
     "data": {
      "image/jpeg": "[encoded data removed]",
      "text/html": [
       "\n",
       "        <iframe\n",
       "            width=\"400\"\n",
       "            height=\"300\"\n",
       "            src=\"https://www.youtube.com/embed/Rc4JQWowG5I?align=center\"\n",
       "            frameborder=\"0\"\n",
       "            allowfullscreen\n",
       "        ></iframe>\n",
       "        "
      ],
      "text/plain": [
       "<IPython.lib.display.YouTubeVideo at 0x7f2c95f9ab70>"
      ]
     },
     "execution_count": 1,
     "metadata": {},
     "output_type": "execute_result"
    }
   ],
   "source": [
    "from IPython.display import YouTubeVideo\n",
    "YouTubeVideo('Rc4JQWowG5I', align=\"center\")"
   ]
  },
  {
   "cell_type": "code",
   "execution_count": 2,
   "metadata": {
    "slideshow": {
     "slide_type": "subslide"
    }
   },
   "outputs": [
    {
     "data": {
      "image/jpeg": "[encoded data removed]",
      "text/html": [
       "\n",
       "        <iframe\n",
       "            width=\"400\"\n",
       "            height=\"300\"\n",
       "            src=\"https://www.youtube.com/embed/DLWBfR2hxoo?align=center\"\n",
       "            frameborder=\"0\"\n",
       "            allowfullscreen\n",
       "        ></iframe>\n",
       "        "
      ],
      "text/plain": [
       "<IPython.lib.display.YouTubeVideo at 0x7f2c95751c88>"
      ]
     },
     "execution_count": 2,
     "metadata": {},
     "output_type": "execute_result"
    }
   ],
   "source": [
    "from IPython.display import YouTubeVideo\n",
    "YouTubeVideo('DLWBfR2hxoo', align=\"center\")"
   ]
  },
  {
   "cell_type": "markdown",
   "metadata": {
    "slideshow": {
     "slide_type": "slide"
    }
   },
   "source": [
    "## Referências bibliográficas do minicurso\n",
    "\n",
    "* Ames, W. F. Numerical Methods for Partial Differential Equations, 3rd. ed., Academic Press, 1992.\n",
    "\n",
    "* Barba, L.Practical Numerical Methods with Python, https://github.com/numerical-mooc/numerical-mooc\n",
    "\n",
    "* Fortuna, A. O. Técnicas computacionais para dinâminca dos fluidos, São Paulo: Edirora da Universidade de São Paulo. 2000\n",
    "\n",
    "* Nachbin, A. ; TABAK, E. . Introdução à Modelagem Matemática e Computação Científica II, SBMAC. XX CNMAC/SBMAC, 1997. 114p\n",
    "\n",
    "* Maliska, C. R. Transferência de Calor e Mecânica dos Fluídos Computacional, 2012\n",
    "\n",
    "* Strikwerda, J., Finite Difference Schemes and Partial Differential Equations, Second Edition, Society for Industrial and Applied Mathematics, 2004.\n",
    "____________________________________________________________________________________________________________________"
   ]
  },
  {
   "cell_type": "code",
   "execution_count": 3,
   "metadata": {
    "slideshow": {
     "slide_type": "skip"
    }
   },
   "outputs": [
    {
     "data": {
      "text/html": [
       "<style>\n",
       "@import url(http://fonts.googleapis.com/css?family=Lato|Source+Code+Pro|Montserrat:400,700);\n",
       "body {\n",
       "font-family: 'Lato', sans-serif !important;\n",
       "font-size: 1.25em !important;\n",
       "line-height: 30px !important;\n",
       "font-weight: 400 !important;\n",
       "color: #000000 !important;\n",
       "}\n",
       "#notebook-container {\n",
       "-webkit-box-shadow: none;\n",
       "box-shadow: none;\n",
       "}\n",
       ".rendered_html h1 { font-size: 4rem !important;  }\n",
       ".rendered_html h2 { font-size: 3rem !important; }\n",
       ".rendered_html h3 { font-size: 2.5rem !important; }\n",
       ".rendered_html h4 { font-size: 2rem !important; }\n",
       ".rendered_html h5 { font-size: 1.5rem !important; }\n",
       ".rendered_html h6 { font-size: 1.5rem !important; }\n",
       ".rendered_html h1, \n",
       ".rendered_html h2, \n",
       ".rendered_html h3, \n",
       ".rendered_html h4,\n",
       ".rendered_html h5, \n",
       ".rendered_html h6 {\n",
       "font-family: 'Montserrat', sans-serif !important;\n",
       "font-weight: 300 !important;\n",
       "line-height: 1.5em !important;\n",
       "color: rgb(0,51,102) !important;\n",
       "}\n",
       "h1 { font-size: 4.5rem !important; }\n",
       "h2 { font-size: 4rem !important; }\n",
       "h3 { font-size: 3.5rem !important; }\n",
       "h4 { font-size: 3rem !important; }\n",
       "h5 { font-size: 2.5rem !important; }\n",
       "h6 { font-size: 1.5rem !important; }\n",
       "h1, h2, h3, h4, h5, h6 {\n",
       "font-family: 'Montserrat', sans-serif !important;\n",
       "color: #e6ae48 !important;\n",
       "line-height: 150px !important;\n",
       "}\n",
       "p {\n",
       "font-family: 'Lato', sans-serif !important;\n",
       "font-size: 1.25em !important;\n",
       "line-height: 30px !important;\n",
       "font-weight: 400 !important;\n",
       "color: #000000 !important;\n",
       "}\n",
       "li {\n",
       "font-family: 'Lato', sans-serif !important;\n",
       "font-size: 1.25em !important;\n",
       "line-height: 30px !important;\n",
       "font-weight: 400 !important;\n",
       "color: #000000 !important;\n",
       "}\n",
       "code {\n",
       "font-family: 'Source Code Pro', sans-serif !important;\n",
       "font-size: 1em !important;\n",
       "}\n",
       "pre {\n",
       "font-family: 'Source Code Pro', sans-serif !important;\n",
       "font-size: 1em !important;\n",
       "}\n",
       "div.input_area {\n",
       "border: none !important;\n",
       "background: whitesmoke !important;\n",
       "}\n",
       ".alert-box {\n",
       "    padding:10px 10px 10px 36px;\n",
       "    margin:5px;\n",
       "}\n",
       "\n",
       "<style>\n",
       "<script>\n",
       "    MathJax.Hub.Config({\n",
       "                        TeX: {\n",
       "                           extensions: [\"AMSmath.js\"],\n",
       "                           equationNumbers: { autoNumber: \"AMS\", useLabelIds: true}\n",
       "                           },\n",
       "                tex2jax: {\n",
       "                    inlineMath: [ ['$','$'], [\"\\\\(\",\"\\\\)\"] ],\n",
       "                    displayMath: [ ['$$','$$'], [\"\\\\[\",\"\\\\]\"] ]\n",
       "                },\n",
       "                displayAlign: 'center', // Change this to 'center' to center equations.\n",
       "                \"HTML-CSS\": {\n",
       "                    styles: {'.MathJax_Display': {\"margin\": 4}}\n",
       "                }\n",
       "        });\n",
       "</script>\n",
       "\n",
       "\n"
      ],
      "text/plain": [
       "<IPython.core.display.HTML object>"
      ]
     },
     "execution_count": 3,
     "metadata": {},
     "output_type": "execute_result"
    }
   ],
   "source": [
    "from IPython.core.display import HTML\n",
    "css_file = '../styles/custom.css'\n",
    "HTML(open(css_file, \"r\").read())"
   ]
  }
 ],
 "metadata": {
  "kernelspec": {
   "display_name": "Python 3",
   "language": "python",
   "name": "python3"
  },
  "language_info": {
   "codemirror_mode": {
    "name": "ipython",
    "version": 3
   },
   "file_extension": ".py",
   "mimetype": "text/x-python",
   "name": "python",
   "nbconvert_exporter": "python",
   "pygments_lexer": "ipython3",
   "version": "3.6.4"
  }
 },
 "nbformat": 4,
 "nbformat_minor": 2
}
