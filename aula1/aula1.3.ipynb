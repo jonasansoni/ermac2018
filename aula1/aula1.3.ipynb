{
 "cells": [
  {
   "cell_type": "markdown",
   "metadata": {},
   "source": [
    "###### Material desenvolvido para o minicurso: Introdução à solução numérica de EDP's, ministrado no ERMAC/2018 de 5 a 6 de abril de 2018 na Universidade Federal de Lavras, Lavras/MG, Brasil. Autor: [Jonas Laerte Ansoni](http://jonasansoni.blogspot.com.br/)."
   ]
  },
  {
   "cell_type": "markdown",
   "metadata": {},
   "source": [
    "<img src=\"./figuras/logoemarc.png\" width=\"30%\">"
   ]
  },
  {
   "cell_type": "markdown",
   "metadata": {},
   "source": [
    "# <center> Minicurso:<font color='blue'> Introdução à solução numérica de EDP's"
   ]
  },
  {
   "cell_type": "markdown",
   "metadata": {},
   "source": [
    "### 2.6 Estabilidade e condição CFL"
   ]
  },
  {
   "cell_type": "markdown",
   "metadata": {},
   "source": [
    "Na aula anterior desta série, estudamos a solução numérica das equações de convecção lineares, usando o método das diferenças finitas. Você testou o método utilizado usando diferentes opções de parâmetros? Se você fez isto, provavelmente se deparou com algum comportamento inesperado. Sua solução chegou a explodir (às vezes de maneira legal!)?"
   ]
  },
  {
   "cell_type": "markdown",
   "metadata": {},
   "source": [
    "### O que aconteceu??"
   ]
  },
  {
   "cell_type": "markdown",
   "metadata": {},
   "source": [
    "Para responder a essa pergunta, temos que pensar um pouco sobre o que estamos realmente implementando no código quando resolvemos a equação de convecção linear com o método forward-time / backward-space.\n",
    "\n",
    "Em cada iteração do _loop_ de tempo, usamos os dados existentes sobre a solução no tempo $n$ para calcular a solução no próximo período de tempo, $n + 1$. Nos primeiros casos, o aumento no número de pontos de grade retornou resultados mais precisos. Houve menos erros de discretização e a onda em movimento parecia mais uma onda quadrada do que no nosso primeiro exemplo.\n",
    "\n",
    "Cada iteração do _loop_ de tempo avança a solução por uma etapa de tempo de comprimento $\\Delta t$, que tinha o valor 0,025 nos exemplos acima. Durante essa iteração, avaliamos a solução $c$ em cada um dos $x_i$ pontos da grade. Mas no último plot, algo claramente deu errado.\n",
    "\n",
    "O que aconteceu é que durante o período de tempo $\\Delta t$, a onda está viajando a uma distância maior que `dx`, e dizemos que a solução se torna *instável* nessa situação (esta afirmação pode ser provada formalmente, ver abaixo). O comprimento `dx` do espaçamento da grade é inversamente proporcional ao número total de pontos `nx`: nós utilizamos mais pontos de grade, então `dx` ficou menor. Uma vez que o `dx` ficou menor que o $u \\Delta t $ (a distância percorrida pela solução numérica em um único intervalo de tempo) não é mais possível para o esquema numérico resolver a equação corretamente!"
   ]
  },
  {
   "cell_type": "markdown",
   "metadata": {},
   "source": [
    "<img src=\"./figuras/CFLcondition2.png\" width=\"55%\">\n",
    "#### Interpretação gráfica da condição CFL."
   ]
  },
  {
   "cell_type": "markdown",
   "metadata": {},
   "source": [
    "Considere a ilustração acima. O triângulo verde representa o domínio de dependência do esquema numérico. De fato, para cada etapa de tempo, a variável $c_i^{n + 1}$ depende apenas dos valores $ c_i^{n}$ e $u_{i-1}^{n}$.\n",
    "\n",
    "Quando a distância $u\\Delta t$ for menor que $\\Delta x$, a linha característica traçada a partir da coordenada da grade $i, n + 1 $ permanece _entre_ os pontos $i-1, n$ e $i, n$ na grade. Em seguida, dizemos que o domínio _matemático da dependência_ da solução do EDP original está contido no _domínio de dependência_ do esquema numérico.\n",
    "\n",
    "Pelo contrário, se $\\Delta x$ for menor que $u \\Delta t$, então as informações sobre a solução necessária para $c_i^{n + 1}$ não estão disponíveis no _domínio de dependência_ do esquema numérico, porque a linha característica traçada a partir da coordenada da grade $i, n + 1$ permanece _entre_ o ponto $i-1, n$ na grade.\n",
    "\n",
    "A condição a seguir garante que o domínio de dependência da equação diferencial esteja contido no domínio _numerico_ de dependência:\n",
    "\n",
    "\\begin{equation}\\sigma = \\frac{u \\Delta t}{\\Delta x} \\leq 1 \n",
    "\\end{equation}\n",
    "\n",
    "Como pode ser provado formalmente, a estabilidade da solução numérica requer que o tamanho do passo \"dt\" seja calculado em relação ao tamanho de \"dx\" para satisfazer a condição acima.\n",
    "\n",
    "O valor de $u \\Delta t/ \\Delta x$ é chamado de **número de Courant-Friedrichs-Lewy** (número de CFL), frequentemente denotado por $\\sigma$. O valor $\\sigma_{\\text{max}}$ que garantirá a estabilidade depende da discretização usada; Para o esquema forward-time/backward-space, a condição para a estabilidade é $\\sigma <1$.\n",
    "\n",
    "Em uma nova versão do nosso código, usaremos o número CFL para calcular o passo de tempo apropriado `dt` dependendo do tamanho de` dx`."
   ]
  },
  {
   "cell_type": "markdown",
   "metadata": {},
   "source": [
    "#### Existe um teorema afirmando que o método será estável se $0 < \\sigma \\leq 1$ e instável se $\\sigma > 1$. (Ames, 1992).  Difusão numérica."
   ]
  },
  {
   "cell_type": "markdown",
   "metadata": {},
   "source": [
    "<div class=\"alert alert-success\" role=\"alert\">\n",
    "<h4> Note que esta condição estabelece que a velocidade numérica tem que ser maior ou igual à velocidade de advecção $u$.</h4>\n",
    "</div>"
   ]
  },
  {
   "cell_type": "code",
   "execution_count": 1,
   "metadata": {},
   "outputs": [],
   "source": [
    "import numpy                       \n",
    "from matplotlib import pyplot    \n",
    "%matplotlib inline\n",
    "from matplotlib import rcParams\n",
    "rcParams['font.family'] = 'serif'\n",
    "rcParams['font.size'] = 16"
   ]
  },
  {
   "cell_type": "code",
   "execution_count": 2,
   "metadata": {},
   "outputs": [],
   "source": [
    "def linearconv(nx):\n",
    "    \"\"\"Solve the linear convection equation.\n",
    "    \n",
    "    Solves the equation d_t u + c d_x u = 0 where \n",
    "    * the wavespeed c is set to 1\n",
    "    * the domain is x \\in [0, 2]\n",
    "    * 20 timesteps are taken, with \\Delta t computed using the CFL 0.5\n",
    "    * the initial data is the hat function\n",
    "    \n",
    "    Produces a plot of the results\n",
    "    \n",
    "    Parameters\n",
    "    ----------\n",
    "    \n",
    "    nx : integer\n",
    "        number of internal grid points\n",
    "        \n",
    "    Returns\n",
    "    -------\n",
    "    \n",
    "    None : none\n",
    "    \"\"\"\n",
    "    dx = 2/(nx-1)\n",
    "    nt = 20    \n",
    "    c = 1\n",
    "    sigma = .5\n",
    "    x = numpy.linspace(0,2,nx)\n",
    "    \n",
    "    dt = sigma*dx\n",
    "\n",
    "    u = numpy.ones(nx) \n",
    "    lbound = numpy.where(x >= 0.5)\n",
    "    ubound = numpy.where(x <= 1)\n",
    "    u[numpy.intersect1d(lbound, ubound)]=2 \n",
    "\n",
    "    un = numpy.ones(nx)\n",
    "\n",
    "    for n in range(nt):  \n",
    "        un = u.copy() \n",
    "        u[1:] = un[1:] -c*dt/dx*(un[1:] -un[0:-1]) \n",
    "        u[0] = 1.0\n",
    "        \n",
    "    pyplot.plot(x, u, color='#003366', ls='--', lw=3)\n",
    "    pyplot.ylim(0,2.5);"
   ]
  },
  {
   "cell_type": "markdown",
   "metadata": {},
   "source": [
    "Agora, não importa quantos pontos usamos para a grade espacial: a solução será sempre estável!"
   ]
  },
  {
   "cell_type": "code",
   "execution_count": 3,
   "metadata": {},
   "outputs": [
    {
     "data": {
      "image/png": "[encoded data removed]",
      "text/plain": [
       "<matplotlib.figure.Figure at 0x7f18417de9b0>"
      ]
     },
     "metadata": {},
     "output_type": "display_data"
    }
   ],
   "source": [
    "linearconv(41) #41, 101, 121"
   ]
  },
  {
   "cell_type": "code",
   "execution_count": 4,
   "metadata": {},
   "outputs": [
    {
     "data": {
      "text/html": [
       "<style>\n",
       "@import url(http://fonts.googleapis.com/css?family=Lato|Source+Code+Pro|Montserrat:400,700);\n",
       "body {\n",
       "font-family: 'Lato', sans-serif !important;\n",
       "font-size: 1.25em !important;\n",
       "line-height: 30px !important;\n",
       "font-weight: 400 !important;\n",
       "color: #000000 !important;\n",
       "}\n",
       "#notebook-container {\n",
       "-webkit-box-shadow: none;\n",
       "box-shadow: none;\n",
       "}\n",
       ".rendered_html h1 { font-size: 4rem !important;  }\n",
       ".rendered_html h2 { font-size: 3rem !important; }\n",
       ".rendered_html h3 { font-size: 2.5rem !important; }\n",
       ".rendered_html h4 { font-size: 2rem !important; }\n",
       ".rendered_html h5 { font-size: 1.5rem !important; }\n",
       ".rendered_html h6 { font-size: 1.5rem !important; }\n",
       ".rendered_html h1, \n",
       ".rendered_html h2, \n",
       ".rendered_html h3, \n",
       ".rendered_html h4,\n",
       ".rendered_html h5, \n",
       ".rendered_html h6 {\n",
       "font-family: 'Montserrat', sans-serif !important;\n",
       "font-weight: 300 !important;\n",
       "line-height: 1.5em !important;\n",
       "color: rgb(0,51,102) !important;\n",
       "}\n",
       "h1 { font-size: 4.5rem !important; }\n",
       "h2 { font-size: 4rem !important; }\n",
       "h3 { font-size: 3.5rem !important; }\n",
       "h4 { font-size: 3rem !important; }\n",
       "h5 { font-size: 2.5rem !important; }\n",
       "h6 { font-size: 1.5rem !important; }\n",
       "h1, h2, h3, h4, h5, h6 {\n",
       "font-family: 'Montserrat', sans-serif !important;\n",
       "color: #e6ae48 !important;\n",
       "line-height: 150px !important;\n",
       "}\n",
       "p {\n",
       "font-family: 'Lato', sans-serif !important;\n",
       "font-size: 1.25em !important;\n",
       "line-height: 30px !important;\n",
       "font-weight: 400 !important;\n",
       "color: #000000 !important;\n",
       "}\n",
       "li {\n",
       "font-family: 'Lato', sans-serif !important;\n",
       "font-size: 1.25em !important;\n",
       "line-height: 30px !important;\n",
       "font-weight: 400 !important;\n",
       "color: #000000 !important;\n",
       "}\n",
       "code {\n",
       "font-family: 'Source Code Pro', sans-serif !important;\n",
       "font-size: 1em !important;\n",
       "}\n",
       "pre {\n",
       "font-family: 'Source Code Pro', sans-serif !important;\n",
       "font-size: 1em !important;\n",
       "}\n",
       "div.input_area {\n",
       "border: none !important;\n",
       "background: whitesmoke !important;\n",
       "}\n",
       ".alert-box {\n",
       "    padding:10px 10px 10px 36px;\n",
       "    margin:5px;\n",
       "}\n",
       "\n",
       "<style>\n",
       "<script>\n",
       "    MathJax.Hub.Config({\n",
       "                        TeX: {\n",
       "                           extensions: [\"AMSmath.js\"],\n",
       "                           equationNumbers: { autoNumber: \"AMS\", useLabelIds: true}\n",
       "                           },\n",
       "                tex2jax: {\n",
       "                    inlineMath: [ ['$','$'], [\"\\\\(\",\"\\\\)\"] ],\n",
       "                    displayMath: [ ['$$','$$'], [\"\\\\[\",\"\\\\]\"] ]\n",
       "                },\n",
       "                displayAlign: 'center', // Change this to 'center' to center equations.\n",
       "                \"HTML-CSS\": {\n",
       "                    styles: {'.MathJax_Display': {\"margin\": 4}}\n",
       "                }\n",
       "        });\n",
       "</script>\n",
       "\n",
       "\n"
      ],
      "text/plain": [
       "<IPython.core.display.HTML object>"
      ]
     },
     "execution_count": 4,
     "metadata": {},
     "output_type": "execute_result"
    }
   ],
   "source": [
    "from IPython.core.display import HTML\n",
    "css_file = '../styles/custom.css'\n",
    "HTML(open(css_file, \"r\").read())"
   ]
  }
 ],
 "metadata": {
  "kernelspec": {
   "display_name": "Python 3",
   "language": "python",
   "name": "python3"
  },
  "language_info": {
   "codemirror_mode": {
    "name": "ipython",
    "version": 3
   },
   "file_extension": ".py",
   "mimetype": "text/x-python",
   "name": "python",
   "nbconvert_exporter": "python",
   "pygments_lexer": "ipython3",
   "version": "3.6.4"
  }
 },
 "nbformat": 4,
 "nbformat_minor": 2
}
